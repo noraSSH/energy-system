{
 "cells": [
  {
   "cell_type": "code",
   "execution_count": 108,
   "id": "9f1d57f5-7ec9-488f-b430-9f30327efaea",
   "metadata": {},
   "outputs": [],
   "source": [
    "import networkx as nx\n",
    "\n",
    "# visualization packages - https://matplotlib.org/ \n",
    "import matplotlib.pyplot as plt\n",
    "import pandas as pd\n",
    "import math\n",
    "import cvxpy as cp\n",
    "import numpy as np"
   ]
  },
  {
   "cell_type": "code",
   "execution_count": 109,
   "id": "dd2218b4-20ac-4e0c-bee5-ae7b311da16e",
   "metadata": {},
   "outputs": [
    {
     "name": "stdout",
     "output_type": "stream",
     "text": [
      "===============================================================================\n",
      "                                     CVXPY                                     \n",
      "                                     v1.2.2                                    \n",
      "===============================================================================\n",
      "(CVXPY) May 09 06:09:14 PM: Your problem has 25 variables, 0 constraints, and 0 parameters.\n",
      "(CVXPY) May 09 06:09:14 PM: It is compliant with the following grammars: DCP, DQCP\n",
      "(CVXPY) May 09 06:09:14 PM: (If you need to solve this problem multiple times, but with different data, consider using parameters.)\n",
      "(CVXPY) May 09 06:09:14 PM: CVXPY will first compile your problem; then, it will invoke a numerical solver to obtain a solution.\n",
      "-------------------------------------------------------------------------------\n",
      "                                  Compilation                                  \n",
      "-------------------------------------------------------------------------------\n",
      "(CVXPY) May 09 06:09:14 PM: Compiling problem (target solver=GUROBI).\n",
      "(CVXPY) May 09 06:09:14 PM: Reduction chain: CvxAttr2Constr -> Qp2SymbolicQp -> QpMatrixStuffing -> GUROBI\n",
      "(CVXPY) May 09 06:09:14 PM: Applying reduction CvxAttr2Constr\n",
      "(CVXPY) May 09 06:09:14 PM: Applying reduction Qp2SymbolicQp\n",
      "(CVXPY) May 09 06:09:14 PM: Applying reduction QpMatrixStuffing\n",
      "(CVXPY) May 09 06:09:14 PM: Applying reduction GUROBI\n",
      "(CVXPY) May 09 06:09:14 PM: Finished problem compilation (took 1.059e-02 seconds).\n",
      "-------------------------------------------------------------------------------\n",
      "                                Numerical solver                               \n",
      "-------------------------------------------------------------------------------\n",
      "(CVXPY) May 09 06:09:14 PM: Invoking solver GUROBI  to obtain a solution.\n",
      "Set parameter QCPDual to value 1\n",
      "Gurobi Optimizer version 10.0.1 build v10.0.1rc0 (mac64[arm])\n",
      "\n",
      "CPU model: Apple M1 Pro\n",
      "Thread count: 10 physical cores, 10 logical processors, using up to 10 threads\n",
      "\n",
      "Optimize a model with 40 rows, 65 columns and 1040 nonzeros\n",
      "Model fingerprint: 0x68de632a\n",
      "Model has 40 quadratic objective terms\n",
      "Variable types: 40 continuous, 25 integer (0 binary)\n",
      "Coefficient statistics:\n",
      "  Matrix range     [8e-05, 1e+00]\n",
      "  Objective range  [0e+00, 0e+00]\n",
      "  QObjective range [2e+00, 2e+00]\n",
      "  Bounds range     [0e+00, 0e+00]\n",
      "  RHS range        [1e-02, 2e+00]\n",
      "Found heuristic solution: objective 47.2619986\n",
      "Presolve time: 0.00s\n",
      "Presolved: 40 rows, 65 columns, 1040 nonzeros\n",
      "Presolved model has 40 quadratic objective terms\n",
      "Variable types: 40 continuous, 25 integer (0 binary)\n",
      "\n",
      "Root relaxation: objective 1.826869e+01, 66 iterations, 0.00 seconds (0.00 work units)\n",
      "\n",
      "    Nodes    |    Current Node    |     Objective Bounds      |     Work\n",
      " Expl Unexpl |  Obj  Depth IntInf | Incumbent    BestBd   Gap | It/Node Time\n",
      "\n",
      "     0     0   18.26869    0   25   47.26200   18.26869  61.3%     -    0s\n",
      "H    0     0                      37.9206157   18.26869  51.8%     -    0s\n",
      "H    0     0                      36.7682211   18.26869  50.3%     -    0s\n",
      "H    0     0                      29.2305924   18.26869  37.5%     -    0s\n",
      "H    0     0                      28.8617362   18.26869  36.7%     -    0s\n",
      "H    0     0                      28.0182783   18.26869  34.8%     -    0s\n",
      "H    0     0                      24.4289042   18.26869  25.2%     -    0s\n",
      "     0     0   19.30191    0   25   24.42890   19.30191  21.0%     -    0s\n",
      "     0     2   19.30191    0   25   24.42890   19.30191  21.0%     -    0s\n",
      "H    8    16                      24.2986279   19.57574  19.4%   1.8    0s\n",
      "H   14    16                      23.9394131   19.98921  16.5%   1.9    0s\n",
      "H  145   133                      23.2119414   20.47304  11.8%   2.2    0s\n",
      "H  555   203                      23.0724494   21.39047  7.29%   2.2    0s\n",
      "\n",
      "Explored 1358 nodes (3010 simplex iterations) in 0.09 seconds (0.07 work units)\n",
      "Thread count was 10 (of 10 available processors)\n",
      "\n",
      "Solution count 10: 23.0724 23.2119 23.9394 ... 37.9206\n",
      "\n",
      "Optimal solution found (tolerance 1.00e-04)\n",
      "Best objective 2.307244943602e+01, best bound 2.307244943602e+01, gap 0.0000%\n",
      "-------------------------------------------------------------------------------\n",
      "                                    Summary                                    \n",
      "-------------------------------------------------------------------------------\n",
      "(CVXPY) May 09 06:09:14 PM: Problem status: optimal\n",
      "(CVXPY) May 09 06:09:14 PM: Optimal value: 2.307e+01\n",
      "(CVXPY) May 09 06:09:14 PM: Compilation took 1.059e-02 seconds\n",
      "(CVXPY) May 09 06:09:14 PM: Solver (including time spent in interface) took 9.826e-02 seconds\n"
     ]
    },
    {
     "data": {
      "text/plain": [
       "23.072449436019248"
      ]
     },
     "execution_count": 109,
     "metadata": {},
     "output_type": "execute_result"
    }
   ],
   "source": [
    "# Generate a random problem np.random.seed(0)\n",
    "m, n= 40, 25\n",
    "A = np.random.rand(m, n)\n",
    "b = np.random.randn(m)\n",
    "# Construct a CVXPY problem\n",
    "x = cp.Variable(n, integer=True)\n",
    "objective = cp.Minimize(cp.sum_squares(A @ x - b)) \n",
    "prob = cp.Problem(objective)\n",
    "prob.solve(solver = cp.GUROBI ,verbose = True)"
   ]
  },
  {
   "cell_type": "code",
   "execution_count": 110,
   "id": "4be9a328-6fcd-47da-94ea-6ed5a09203a5",
   "metadata": {},
   "outputs": [],
   "source": [
    "branch_df = pd.read_csv(\"Branch.csv\").dropna()\n",
    "bus_df = pd.read_csv(\"Bus.csv\").dropna()\n",
    "generator_df = pd.read_csv(\"Generation.csv\").dropna()\n",
    "load_df = pd.read_csv(\"Load.csv\").dropna().set_index('Hour')"
   ]
  },
  {
   "cell_type": "code",
   "execution_count": 111,
   "id": "0d72f060-5c64-4a9e-b1e8-aea80a2942c9",
   "metadata": {},
   "outputs": [
    {
     "name": "stdout",
     "output_type": "stream",
     "text": [
      "Index(['branch_number', 'from_bus', 'to_bus', 'LineR', 'LineX',\n",
      "       'B(susceptance)', 'rateA', 'rateC'],\n",
      "      dtype='object')\n",
      "Index(['Unnamed: 0', 'BusNumber', 'Pload', 'Qload'], dtype='object')\n",
      "Index(['GenNumber', 'Bus', 'Pmax', 'Pmin', 'LinearCost', 'StartupCost',\n",
      "       'ShutdownCost', 'NoLoadCost', 'ReserveCost', 'minDOWN', 'minUP',\n",
      "       'HourlyRamp', 'Startup/ShutdownRamp'],\n",
      "      dtype='object')\n",
      "      Day1  Day2  Day3  Day4  Day5\n",
      "Hour                              \n",
      "1       62    67    61    55    61\n"
     ]
    }
   ],
   "source": [
    "print(branch_df.columns)\n",
    "print(bus_df.columns)\n",
    "print(generator_df.columns)\n",
    "print(load_df.loc[[1]])"
   ]
  },
  {
   "cell_type": "code",
   "execution_count": 139,
   "id": "8622f668-beb1-4edd-abe7-cf77ba83d52f",
   "metadata": {},
   "outputs": [],
   "source": [
    "N = bus_df.shape[0]\n",
    "E = branch_df.shape[0]\n",
    "Ng = generator_df.shape[0]\n",
    "\n",
    "cl = np.array(generator_df.LinearCost).reshape((-1,1))\n",
    "cnl = np.array(generator_df.NoLoadCost).reshape((-1,1))\n",
    "csu = np.array(generator_df.StartupCost).reshape((-1,1))\n",
    "csd = np.array(generator_df.ShutdownCost).reshape((-1,1))\n",
    "cr = np.array(generator_df.ReserveCost).reshape((-1,1))\n",
    "\n",
    "Pl = np.array(branch_df.rateA/100.0).reshape((-1,1))\n",
    "b = branch_df[\"B(susceptance)\"]/100.0\n",
    "\n",
    "bus_mappings = {bus: bus-1 for bus in bus_df.BusNumber}\n",
    "M = np.zeros((N,E))\n",
    "for idx,(fbus, tbus) in enumerate(zip(branch_df.from_bus,branch_df.to_bus)): \n",
    "    M[bus_mappings[fbus],idx] = 1 \n",
    "    M[bus_mappings[tbus],idx] = -1\n",
    "    \n",
    "pg_min = np.array(generator_df.Pmin/100.0).reshape((-1,1))\n",
    "pg_max = np.array(generator_df.Pmax/100.0).reshape((-1,1))\n",
    "\n",
    "Eg = np.zeros((N,Ng))\n",
    "for ngi in range(Ng): \n",
    "    Eg[generator_df.Bus[ngi]-1,ngi] = 1\n",
    "    \n",
    "B = M@np.diag(b)@M.T\n",
    "\n",
    "rhr = np.array(generator_df.HourlyRamp).reshape((-1,1))\n",
    "rsu = np.array(generator_df[\"Startup/ShutdownRamp\"]).reshape((-1,1))\n",
    "rsd = rsu\n",
    "\n",
    "Ti_on = np.array(generator_df.minUP).reshape((-1,1))\n",
    "Ti_off = np.array(generator_df.minDOWN).reshape((-1,1))"
   ]
  },
  {
   "cell_type": "code",
   "execution_count": 140,
   "id": "20c5400b-d38a-4134-9246-7ae63ae5d7c4",
   "metadata": {},
   "outputs": [
    {
     "name": "stdout",
     "output_type": "stream",
     "text": [
      "(5, 24, 118)\n"
     ]
    }
   ],
   "source": [
    "Pd = np.zeros((5,24,N))\n",
    "for day in range(1,6):\n",
    "    for hour in range(1,25):\n",
    "        for bus in range(len(bus_df.Pload)):\n",
    "            Pd[day-1, hour-1, bus] = load_df.loc[[hour]][\"Day\"+str(day)]/100.0 * bus_df.Pload.iloc[bus]/100.0\n",
    "            \n",
    "print(Pd.shape)"
   ]
  },
  {
   "cell_type": "code",
   "execution_count": 141,
   "id": "b9194986-a679-4bae-89df-f97cd8c0da9d",
   "metadata": {},
   "outputs": [
    {
     "name": "stdout",
     "output_type": "stream",
     "text": [
      "(24, 118)\n"
     ]
    }
   ],
   "source": [
    "Pd_sum = Pd.sum(axis=2)\n",
    "print(Pd[0].shape)"
   ]
  },
  {
   "cell_type": "code",
   "execution_count": 142,
   "id": "a7bfd5d3-a39a-42ea-b159-b96fbdb85eba",
   "metadata": {},
   "outputs": [
    {
     "data": {
      "text/plain": [
       "<matplotlib.legend.Legend at 0x2a91cf5e0>"
      ]
     },
     "execution_count": 142,
     "metadata": {},
     "output_type": "execute_result"
    },
    {
     "data": {
      "image/png": "[encoded data removed]",
      "text/plain": [
       "<Figure size 640x480 with 1 Axes>"
      ]
     },
     "metadata": {},
     "output_type": "display_data"
    }
   ],
   "source": [
    "demands = plt.plot(range(1,25),Pd_sum.T)\n",
    "plt.xlabel(\"hours\")\n",
    "plt.ylabel(\"loads\")\n",
    "plt.legend(iter(demands), (\"Day\"+str(i) for i in range(1,6)))"
   ]
  },
  {
   "cell_type": "code",
   "execution_count": 363,
   "id": "d73fdfa2-2fd5-4d5b-ac64-c0fbc612942e",
   "metadata": {},
   "outputs": [
    {
     "name": "stdout",
     "output_type": "stream",
     "text": [
      "[[1 2 1 2]\n",
      " [3 4 3 4]]\n",
      "(118, 108)\n",
      "(24, 118)\n",
      "[[12 24 12  8  8  4 24  8  4  8  8  8  8  8  8  1  1  1 12  0  0  0  0  0\n",
      "   0  0  0  0  0  4  8 24 12 12 24  8  8  8  8  8 12  4  4  4  4  1  1  1\n",
      "   8 24  8  4  1  8]]\n",
      "[[10 48 10  8  8  2  1  8  2  8  8  8  8  8  8  1  1  1 10  0  0  0  0  0\n",
      "   0  0  0  0  0  2  4  1 10 10  1  4  4  4  4  4 10  2  2  2  2  1  1  1\n",
      "   8 48  8  2  1  8]]\n",
      "[[1 2]\n",
      " [3 4]\n",
      " [1 2]\n",
      " [3 4]]\n"
     ]
    }
   ],
   "source": [
    "print(np.append([[1,2],[3,4]],[[1,2],[3,4]], axis=1))\n",
    "print(np.append(Eg, Eg, axis=1).shape)\n",
    "print(Pd[0].shape)\n",
    "print(Ti_on.T)\n",
    "print(Ti_off.T)\n",
    "print(np.array([[[1,2],[3,4]],[[1,2],[3,4]]]).reshape((-1,2)))"
   ]
  },
  {
   "cell_type": "code",
   "execution_count": 387,
   "id": "96242c75-d329-4c07-843a-efde29458b17",
   "metadata": {},
   "outputs": [],
   "source": [
    "d1 = Pd[0].T\n",
    "\n",
    "def uc(d, p_p=None, r_p=None, theta_p=None, u_p=None, v_p=None, w_p=None, day=1):\n",
    "    T = 24*day\n",
    "\n",
    "    p = cp.Variable((generator_df.shape[0],T))\n",
    "    r = cp.Variable((generator_df.shape[0],T))\n",
    "    theta = cp.Variable((N,T))\n",
    "    u = cp.Variable((generator_df.shape[0],T),boolean = True) # Commitment variable\n",
    "    v = cp.Variable((generator_df.shape[0],T),boolean = True) # Startup variable\n",
    "    w = cp.Variable((generator_df.shape[0],T),boolean = True) # Shutdown variable\n",
    "    \n",
    "    obj = cp.Minimize(cp.sum(cl.T@p + csu.T@v + csd.T@w + cnl.T@u + cr.T@r))\n",
    "    prev_day_constraints = []\n",
    "    if day > 1:\n",
    "        prev_day_constraints += [p[:,:(T-24)]==p_p]\n",
    "        prev_day_constraints += [r[:,:(T-24)]==r_p]\n",
    "        prev_day_constraints += [theta[:,:(T-24)]==theta_p]\n",
    "        prev_day_constraints += [u[:,:(T-24)]==u_p]\n",
    "        prev_day_constraints += [v[:,:(T-24)]==v_p]\n",
    "        prev_day_constraints += [w[:,:(T-24)]==w_p]\n",
    "    # obj = cp.Minimize(cp.sum(linear_cost.T@p))\n",
    "    power_flow_constraints = [Eg@p - d == B@theta]\n",
    "    flow_limits = [-Pl@np.ones((1,T)) <= np.diag(b)@M.T@theta, np.diag(b)@M.T@theta <= Pl@np.ones((1,T))]\n",
    "    generator_limits = [np.diag(pg_min.T[0])@u + r <= p, p <= np.diag(pg_max.T[0])@u - r]\n",
    "    ramp_limits_startup = [p[:,i] - p[:,i-1] <= np.diag(rhr.T[0])@u[:,i-1] + np.diag(rsu.T[0])@v[:,i] for i in range(1,T)]\n",
    "    ramp_limits_shutdown = [p[:,i-1] - p[:,i] <= np.diag(rhr.T[0])@u[:,i] + np.diag(rsd.T[0])@w[:,i] for i in range(1,T)]\n",
    "    commitment_constraints = [v[:,i] - w[:,i] == u[:,i] - u[:,i-1] for i in range(1,T)]\n",
    "    min_up_time_constraints = []\n",
    "    min_down_time_constraints = []\n",
    "    for idx, utime in enumerate(Ti_on):\n",
    "        for t in range(utime[0]-1,T):\n",
    "            min_up_time_constraints += [cp.sum(v[idx,t-utime[0]+1:t+1]) <= u[idx,t]]\n",
    "\n",
    "    for idx, dtime in enumerate(Ti_off):\n",
    "        for t in range(dtime[0]-1,T):\n",
    "            min_down_time_constraints += [cp.sum(w[idx,t-dtime[0]+1:t+1]) <= 1-u[idx,t]]\n",
    "\n",
    "    #reserve_constraints = [cp.sum(r[:,t]) >= 0.07*cp.sum(d1[:,t]) for t in range(T)]\n",
    "    reserve_constraints = [cp.sum(r[:,t]) >= p[idx,t] + r[idx,t] for t in range(T) for idx,_ in enumerate(pg_max)]\n",
    "    reserve_constraints += [r <= np.diag(pg_max.T[0])@u, r >= 0]\n",
    "    #reserve_constraints += [v[:,t] - w[:,t] == u[:,t] - u[:,t-1] for t in range(1,T)]\n",
    "    '''\n",
    "    for t in range(1, T):\n",
    "        reserve_constraints += [v[:,t]-w[:,t] == u[:,t] - u[:,t-1]]'''\n",
    "\n",
    "    # constraints = power_flow_constraints + flow_limits + generator_limits + commitment_constraints + min_up_time_constraints + min_down_time_constraints + reserve_constraints + ramp_limits_startup + ramp_limits_shutdown\n",
    "    constraints = prev_day_constraints + power_flow_constraints + flow_limits + generator_limits + commitment_constraints + reserve_constraints + ramp_limits_startup + ramp_limits_shutdown + min_up_time_constraints + min_down_time_constraints\n",
    "\n",
    "    prob = cp.Problem(obj, constraints)\n",
    "    opt = prob.solve(solver = cp.GUROBI, verbose=True,MIPgap = 0.01)\n",
    "    return opt, p, r, theta, u, v, w"
   ]
  },
  {
   "cell_type": "code",
   "execution_count": null,
   "id": "be581065-2cfd-446a-9e08-420555b3db45",
   "metadata": {},
   "outputs": [
    {
     "name": "stdout",
     "output_type": "stream",
     "text": [
      "===============================================================================\n",
      "                                     CVXPY                                     \n",
      "                                     v1.2.2                                    \n",
      "===============================================================================\n",
      "(CVXPY) May 11 06:05:48 PM: Your problem has 9312 variables, 3441 constraints, and 0 parameters.\n",
      "(CVXPY) May 11 06:05:48 PM: It is compliant with the following grammars: DCP, DQCP\n",
      "(CVXPY) May 11 06:05:48 PM: (If you need to solve this problem multiple times, but with different data, consider using parameters.)\n",
      "(CVXPY) May 11 06:05:48 PM: CVXPY will first compile your problem; then, it will invoke a numerical solver to obtain a solution.\n",
      "-------------------------------------------------------------------------------\n",
      "                                  Compilation                                  \n",
      "-------------------------------------------------------------------------------\n",
      "(CVXPY) May 11 06:05:49 PM: Compiling problem (target solver=GUROBI).\n",
      "(CVXPY) May 11 06:05:49 PM: Reduction chain: CvxAttr2Constr -> Qp2SymbolicQp -> QpMatrixStuffing -> GUROBI\n",
      "(CVXPY) May 11 06:05:49 PM: Applying reduction CvxAttr2Constr\n",
      "(CVXPY) May 11 06:05:49 PM: Applying reduction Qp2SymbolicQp\n",
      "(CVXPY) May 11 06:05:49 PM: Applying reduction QpMatrixStuffing\n",
      "(CVXPY) May 11 06:05:51 PM: Applying reduction GUROBI\n",
      "(CVXPY) May 11 06:05:51 PM: Finished problem compilation (took 2.206e+00 seconds).\n",
      "-------------------------------------------------------------------------------\n",
      "                                Numerical solver                               \n",
      "-------------------------------------------------------------------------------\n",
      "(CVXPY) May 11 06:05:51 PM: Invoking solver GUROBI  to obtain a solution.\n",
      "Set parameter QCPDual to value 1\n",
      "Set parameter MIPGap to value 0.01\n",
      "Gurobi Optimizer version 10.0.1 build v10.0.1rc0 (mac64[arm])\n",
      "\n",
      "CPU model: Apple M1 Pro\n",
      "Thread count: 10 physical cores, 10 logical processors, using up to 10 threads\n",
      "\n",
      "Optimize a model with 24035 rows, 9312 columns and 136807 nonzeros\n",
      "Model fingerprint: 0xfce95c62\n",
      "Variable types: 5424 continuous, 3888 integer (3888 binary)\n",
      "Coefficient statistics:\n",
      "  Matrix range     [2e-02, 3e+03]\n",
      "  Objective range  [6e+00, 6e+03]\n",
      "  Bounds range     [1e+00, 1e+00]\n",
      "  RHS range        [1e-02, 1e+01]\n",
      "Presolve removed 4823 rows and 457 columns\n",
      "Presolve time: 0.30s\n",
      "Presolved: 19212 rows, 8855 columns, 129235 nonzeros\n",
      "Variable types: 5075 continuous, 3780 integer (3780 binary)\n",
      "Found heuristic solution: objective 443273.23188\n",
      "\n",
      "Root relaxation: objective 1.867241e+05, 11581 iterations, 1.18 seconds (3.24 work units)\n"
     ]
    }
   ],
   "source": [
    "opt, p, r, theta, u, v, w = uc(d1, 1)\n",
    "agg_generation=np.sum(p.value, axis=0)\n",
    "agg_demand=np.sum(d1, axis=0)\n",
    "agg_reserve=np.sum(r.value, axis=0)\n",
    "max_gen_id=np.argmax(p.value + r.value, axis=0)\n",
    "max_disp_res=np.max(p.value + r.value, axis=0)\n",
    "\n",
    "table_output_1f3 = pd.DataFrame.from_dict({\"Aggregate Generation\": agg_generation,\\\n",
    "                                           \"Aggregate Demand\": agg_demand,\\\n",
    "                                           \"Aggregate Reserve\": agg_reserve,\\\n",
    "                                           \"Max Gen ID\": max_gen_id+1,\\\n",
    "                                           \"Max Generation\": max_disp_res})\n",
    "\n",
    "display(table_output_1f3)"
   ]
  },
  {
   "cell_type": "code",
   "execution_count": 378,
   "id": "4c7a23d6-1027-46d1-92ae-f3731204f9ae",
   "metadata": {},
   "outputs": [
    {
     "data": {
      "text/plain": [
       "<matplotlib.image.AxesImage at 0x2d23b1780>"
      ]
     },
     "execution_count": 378,
     "metadata": {},
     "output_type": "execute_result"
    },
    {
     "data": {
      "image/png": "[encoded data removed]",
      "text/plain": [
       "<Figure size 640x480 with 1 Axes>"
      ]
     },
     "metadata": {},
     "output_type": "display_data"
    }
   ],
   "source": [
    "plt.imshow(u.value)"
   ]
  },
  {
   "cell_type": "code",
   "execution_count": 379,
   "id": "bb84387a-82ef-4ff2-807e-6fee51d1c928",
   "metadata": {},
   "outputs": [
    {
     "data": {
      "text/plain": [
       "<matplotlib.image.AxesImage at 0x2de5ea410>"
      ]
     },
     "execution_count": 379,
     "metadata": {},
     "output_type": "execute_result"
    },
    {
     "data": {
      "image/png": "[encoded data removed]",
      "text/plain": [
       "<Figure size 640x480 with 1 Axes>"
      ]
     },
     "metadata": {},
     "output_type": "display_data"
    }
   ],
   "source": [
    "plt.imshow(v.value)"
   ]
  },
  {
   "cell_type": "code",
   "execution_count": 380,
   "id": "87235851-9753-46c7-a8bf-93f403d234fb",
   "metadata": {},
   "outputs": [
    {
     "data": {
      "text/plain": [
       "<matplotlib.image.AxesImage at 0x2d8a6b9a0>"
      ]
     },
     "execution_count": 380,
     "metadata": {},
     "output_type": "execute_result"
    },
    {
     "data": {
      "image/png": "[encoded data removed]",
      "text/plain": [
       "<Figure size 640x480 with 1 Axes>"
      ]
     },
     "metadata": {},
     "output_type": "display_data"
    }
   ],
   "source": [
    "plt.imshow(w.value)"
   ]
  },
  {
   "cell_type": "code",
   "execution_count": 321,
   "id": "de868054-f637-44c2-a1c7-e9851f0a37c0",
   "metadata": {},
   "outputs": [
    {
     "data": {
      "text/plain": [
       "58.589999999999996"
      ]
     },
     "execution_count": 321,
     "metadata": {},
     "output_type": "execute_result"
    }
   ],
   "source": [
    "np.sum(pg_max)"
   ]
  },
  {
   "cell_type": "code",
   "execution_count": 381,
   "id": "fd1bf98f-1747-4661-87b8-36de68e3ba1a",
   "metadata": {},
   "outputs": [
    {
     "data": {
      "text/plain": [
       "[<matplotlib.lines.Line2D at 0x2defe0bb0>]"
      ]
     },
     "execution_count": 381,
     "metadata": {},
     "output_type": "execute_result"
    },
    {
     "data": {
      "image/png": "[encoded data removed]",
      "text/plain": [
       "<Figure size 640x480 with 1 Axes>"
      ]
     },
     "metadata": {},
     "output_type": "display_data"
    }
   ],
   "source": [
    "reserve_margin = np.sum(pg_max)- agg_generation\n",
    "#print(reserve_margin)\n",
    "plt.plot(reserve_margin)\n",
    "plt.plot(agg_generation)\n",
    "plt.plot([np.sum(pg_max)]*24)"
   ]
  },
  {
   "cell_type": "code",
   "execution_count": 382,
   "id": "a065184e-9eb7-41f5-b02e-35513020512e",
   "metadata": {},
   "outputs": [
    {
     "data": {
      "text/plain": [
       "[<matplotlib.lines.Line2D at 0x2defc6dd0>]"
      ]
     },
     "execution_count": 382,
     "metadata": {},
     "output_type": "execute_result"
    },
    {
     "data": {
      "image/png": "[encoded data removed]",
      "text/plain": [
       "<Figure size 640x480 with 1 Axes>"
      ]
     },
     "metadata": {},
     "output_type": "display_data"
    }
   ],
   "source": [
    "reserve_margin_1_5 = np.sum(pg_max)- agg_generation * 1.5\n",
    "#print(reserve_margin)\n",
    "plt.plot(reserve_margin_1_5)\n",
    "plt.plot(agg_generation*1.5)\n",
    "plt.plot([np.sum(pg_max)]*24)"
   ]
  },
  {
   "cell_type": "code",
   "execution_count": 372,
   "id": "b095ced2-41a7-4654-b921-9516c7138af5",
   "metadata": {},
   "outputs": [
    {
     "data": {
      "text/plain": [
       "array([[ 0., -0., -0., ..., -0., -0., -0.],\n",
       "       [ 0., -0., -0., ..., -0., -0., -0.],\n",
       "       [ 0., -0., -0., ..., -0., -0., -0.],\n",
       "       ...,\n",
       "       [ 0., -0., -0., ..., -0., -0., -0.],\n",
       "       [ 0., -0., -0., ..., -0., -0., -0.],\n",
       "       [ 0., -0., -0., ..., -0., -0., -0.]])"
      ]
     },
     "metadata": {},
     "output_type": "display_data"
    },
    {
     "name": "stdout",
     "output_type": "stream",
     "text": [
      "[ 0  0  0  0  0  0  0  0  0  0  0  0  0  0  7  0  0  0  0  0  0  0  0  0\n",
      "  0  0  0  0  0  0 16  6  8  8  0  7  6  6  0  7  7  0  0  9  0 17  0 16\n",
      "  0  0  0  0 17  0]\n",
      "(5, 24, 118)\n",
      "(120, 118)\n"
     ]
    }
   ],
   "source": [
    "display(v.value)\n",
    "print(np.argmax(v.value, axis=1))\n",
    "Pd_reshape = Pd[0]\n",
    "for i in Pd[1:]:\n",
    "    Pd_reshape = np.append(Pd_reshape, i, axis=0)\n",
    "print(Pd.shape)\n",
    "print(Pd_reshape.shape)"
   ]
  },
  {
   "cell_type": "code",
   "execution_count": 386,
   "id": "b9c53dbe-bcc5-4dab-91dc-406e14407499",
   "metadata": {},
   "outputs": [
    {
     "name": "stdout",
     "output_type": "stream",
     "text": [
      "===============================================================================\n",
      "                                     CVXPY                                     \n",
      "                                     v1.2.2                                    \n",
      "===============================================================================\n",
      "(CVXPY) May 11 05:55:03 PM: Your problem has 18624 variables, 7355 constraints, and 0 parameters.\n",
      "(CVXPY) May 11 05:55:03 PM: It is compliant with the following grammars: DCP, DQCP\n",
      "(CVXPY) May 11 05:55:03 PM: (If you need to solve this problem multiple times, but with different data, consider using parameters.)\n",
      "(CVXPY) May 11 05:55:03 PM: CVXPY will first compile your problem; then, it will invoke a numerical solver to obtain a solution.\n",
      "-------------------------------------------------------------------------------\n",
      "                                  Compilation                                  \n",
      "-------------------------------------------------------------------------------\n",
      "(CVXPY) May 11 05:55:03 PM: Compiling problem (target solver=GUROBI).\n",
      "(CVXPY) May 11 05:55:03 PM: Reduction chain: CvxAttr2Constr -> Qp2SymbolicQp -> QpMatrixStuffing -> GUROBI\n",
      "(CVXPY) May 11 05:55:03 PM: Applying reduction CvxAttr2Constr\n",
      "(CVXPY) May 11 05:55:03 PM: Applying reduction Qp2SymbolicQp\n",
      "(CVXPY) May 11 05:55:13 PM: Applying reduction QpMatrixStuffing\n",
      "(CVXPY) May 11 05:55:22 PM: Applying reduction GUROBI\n",
      "(CVXPY) May 11 05:55:22 PM: Finished problem compilation (took 1.911e+01 seconds).\n",
      "-------------------------------------------------------------------------------\n",
      "                                Numerical solver                               \n",
      "-------------------------------------------------------------------------------\n",
      "(CVXPY) May 11 05:55:22 PM: Invoking solver GUROBI  to obtain a solution.\n",
      "Set parameter QCPDual to value 1\n",
      "Set parameter MIPGap to value 0.01\n",
      "Gurobi Optimizer version 10.0.1 build v10.0.1rc0 (mac64[arm])\n",
      "\n",
      "CPU model: Apple M1 Pro\n",
      "Thread count: 10 physical cores, 10 logical processors, using up to 10 threads\n",
      "\n",
      "Optimize a model with 48709 rows, 18624 columns and 280785 nonzeros\n",
      "Model fingerprint: 0xd2901adf\n",
      "Variable types: 10848 continuous, 7776 integer (7776 binary)\n",
      "Coefficient statistics:\n",
      "  Matrix range     [2e-02, 3e+03]\n",
      "  Objective range  [6e+00, 6e+03]\n",
      "  Bounds range     [1e+00, 1e+00]\n",
      "  RHS range        [1e-02, 1e+01]\n",
      "Presolve removed 9576 rows and 799 columns\n",
      "Presolve time: 0.63s\n",
      "Presolved: 39133 rows, 17825 columns, 264934 nonzeros\n",
      "Variable types: 10157 continuous, 7668 integer (7668 binary)\n",
      "\n",
      "Deterministic concurrent LP optimizer: primal and dual simplex (primal and dual model)\n",
      "Showing first log only...\n",
      "\n",
      "Root relaxation presolved: 31633 rows, 25288 columns, 257394 nonzeros\n",
      "\n",
      "\n",
      "Root simplex log...\n",
      "\n",
      "Iteration    Objective       Primal Inf.    Dual Inf.      Time\n",
      "   18384    4.2990057e+05   0.000000e+00   7.967852e+07      5s\n",
      "Concurrent spin time: 0.00s\n",
      "\n",
      "Solved with primal simplex (dual model)\n",
      "\n",
      "Root relaxation: objective 4.106068e+05, 20143 iterations, 3.56 seconds (7.83 work units)\n",
      "\n",
      "    Nodes    |    Current Node    |     Objective Bounds      |     Work\n",
      " Expl Unexpl |  Obj  Depth IntInf | Incumbent    BestBd   Gap | It/Node Time\n",
      "\n",
      "     0     0 410606.770    0  296          - 410606.770      -     -    6s\n",
      "     0     0 410973.097    0  328          - 410973.097      -     -    7s\n",
      "     0     0 411070.465    0  322          - 411070.465      -     -    7s\n",
      "     0     0 411074.380    0  311          - 411074.380      -     -    8s\n",
      "     0     0 411074.406    0  302          - 411074.406      -     -    8s\n",
      "     0     0 411074.406    0  302          - 411074.406      -     -    8s\n",
      "     0     0 411074.406    0  302          - 411074.406      -     -    8s\n",
      "     0     0 411074.406    0  302          - 411074.406      -     -    8s\n",
      "     0     0 411074.406    0  302          - 411074.406      -     -    8s\n",
      "     0     0 411159.230    0  314          - 411159.230      -     -    8s\n",
      "     0     0 411179.416    0  310          - 411179.416      -     -    9s\n",
      "     0     0 411186.403    0  310          - 411186.403      -     -    9s\n",
      "     0     0 411189.791    0  310          - 411189.791      -     -    9s\n",
      "     0     0 411190.976    0  310          - 411190.976      -     -    9s\n",
      "     0     0 411191.195    0  296          - 411191.195      -     -    9s\n",
      "     0     0 411191.195    0  340          - 411191.195      -     -    9s\n",
      "     0     0 411197.129    0  336          - 411197.129      -     -    9s\n",
      "     0     0 411197.382    0  340          - 411197.382      -     -   10s\n",
      "     0     0 411197.656    0  341          - 411197.656      -     -   10s\n",
      "     0     0 411207.645    0  350          - 411207.645      -     -   10s\n",
      "     0     0 411209.283    0  343          - 411209.283      -     -   10s\n",
      "     0     0 411209.833    0  345          - 411209.833      -     -   10s\n",
      "     0     0 411210.115    0  345          - 411210.115      -     -   10s\n",
      "     0     0 411210.129    0  345          - 411210.129      -     -   10s\n",
      "     0     0 411211.202    0  333          - 411211.202      -     -   11s\n",
      "     0     0 411211.216    0  333          - 411211.216      -     -   11s\n",
      "     0     0 411212.653    0  330          - 411212.653      -     -   11s\n",
      "     0     0 411212.875    0  342          - 411212.875      -     -   11s\n",
      "     0     0 411212.890    0  338          - 411212.890      -     -   11s\n",
      "     0     0 411213.202    0  327          - 411213.202      -     -   11s\n",
      "     0     0 411213.202    0  327          - 411213.202      -     -   11s\n",
      "     0     0 411213.202    0  327          - 411213.202      -     -   11s\n",
      "     0     0 411213.202    0  323          - 411213.202      -     -   12s\n",
      "     0     0 411213.202    0  323          - 411213.202      -     -   12s\n",
      "     0     0 411219.187    0  328          - 411219.187      -     -   12s\n",
      "     0     0 411219.282    0  323          - 411219.282      -     -   12s\n",
      "     0     0 411219.342    0  323          - 411219.342      -     -   13s\n",
      "     0     0 411219.459    0  329          - 411219.459      -     -   13s\n",
      "     0     0 411219.543    0  329          - 411219.543      -     -   13s\n",
      "     0     0 411219.543    0  335          - 411219.543      -     -   13s\n",
      "     0     0 411219.543    0  341          - 411219.543      -     -   13s\n",
      "H    0     0                    910472.42494 411219.543  54.8%     -   13s\n",
      "     0     0 411219.543    0  296 910472.425 411219.543  54.8%     -   14s\n",
      "     0     2 411219.543    0  294 910472.425 411219.543  54.8%     -   15s\n",
      "    25    36 418488.092    5  289 910472.425 411522.949  54.8%   466   20s\n",
      "H   35    46                    910389.69369 411522.949  54.8%   394   22s\n",
      "H   36    46                    909568.44698 411522.949  54.8%   402   22s\n",
      "H   37    46                    909466.94137 411522.949  54.8%   427   22s\n",
      "H   39    46                    908328.75007 411522.949  54.7%   433   22s\n",
      "    45    56 418530.691    6  277 908328.750 411546.972  54.7%   461   27s\n",
      "    75    86 418613.554    8  272 908328.750 411602.228  54.7%   430   30s\n",
      "H  118   129                    908317.99456 411602.228  54.7%   390   35s\n",
      "H  119   129                    898836.28888 411602.228  54.2%   387   35s\n",
      "H  156   166                    482350.66124 411602.228  14.7%   357   39s\n",
      "   167   181 419233.858   13  265 482350.661 411602.228  14.7%   359   40s\n",
      "H  201   210                    437979.00205 411602.228  6.02%   339   55s\n",
      "H  202   210                    433020.33209 411602.228  4.95%   339   55s\n",
      "H  207   210                    432451.14452 411602.228  4.82%   333   55s\n",
      "H  250   252                    432169.43430 411602.228  4.76%   320   59s\n",
      "H  257   252                    432168.97244 411602.228  4.76%   317   59s\n",
      "H  263   252                    432111.60680 411602.228  4.75%   315   59s\n",
      "   267   275 425549.019   18  261 432111.607 411602.228  4.75%   315   61s\n",
      "   295   284 422506.262   20  246 432111.607 411602.228  4.75%   306   76s\n",
      "H  297   284                    431973.15922 411602.228  4.72%   305   76s\n",
      "H  298   284                    431095.60471 411602.228  4.52%   304   76s\n",
      "H  299   284                    430905.72823 411602.228  4.48%   303   76s\n",
      "   376   379 423196.051   28  205 430905.728 411602.228  4.48%   292   80s\n",
      "   597   631 424447.024   50  194 430905.728 411602.228  4.48%   244   86s\n",
      "   871   941 425598.395   73  142 430905.728 411602.228  4.48%   203   90s\n",
      "  1297  1368 427290.581  120  112 430905.728 411602.228  4.48%   162   95s\n",
      "H 1477  1393                    430825.62624 411602.228  4.46%   149   98s\n",
      "  1497  1559 428137.207  140  103 430825.626 411602.228  4.46%   148  100s\n",
      "  2133  2067 428627.449  219  118 430825.626 411602.228  4.46%   115  105s\n",
      "H 2522  2274                    430825.62616 411602.228  4.46%   105  109s\n",
      "H 2529  2274                    430825.62598 411602.228  4.46%   105  109s\n",
      "H 2559  2274                    430825.62561 411602.228  4.46%   104  109s\n",
      "H 2560  1615                    427481.26440 411602.228  3.71%   104  122s\n",
      "  2561  1600 425807.095  171  296 427481.264 411602.228  3.71%   104  129s\n",
      "  2563  1601 417374.210   34  300 427481.264 411602.228  3.71%   104  137s\n",
      "  2568  1605 418168.108   43  328 427481.264 411602.228  3.71%   104  140s\n",
      "  2573  1608 423407.471  115  312 427481.264 411602.228  3.71%   104  145s\n",
      "  2578  1611 421245.588  188  300 427481.264 411602.228  3.71%   104  150s\n",
      "  2594  1633 422241.541   15  332 427481.264 411602.228  3.71%   118  155s\n",
      "  2654  1672 425411.641   18  285 427481.264 411676.791  3.70%   123  161s\n",
      "  2705  1705 425533.037   21  264 427481.264 411676.791  3.70%   127  165s\n",
      "  2753  1731     cutoff   24      427481.264 411676.791  3.70%   129  170s\n",
      "  2784  1735     cutoff   28      427481.264 411676.791  3.70%   131  192s\n",
      "H 2786  1653                    426783.45638 411676.791  3.54%   131  192s\n",
      "H 2787  1576                    425492.82931 411676.791  3.25%   132  192s\n",
      "H 2818  1512                    425415.17963 411740.664  3.21%   134  200s\n",
      "H 2821  1441                    425169.85615 411740.664  3.16%   134  200s\n",
      "  2901  1497 416122.978   25  325 425169.856 411740.664  3.16%   138  205s\n",
      "  2982  1530 420433.139   29  267 425169.856 411740.664  3.16%   144  210s\n",
      "  3077  1586 418486.275   36  245 425169.856 411740.664  3.16%   149  215s\n",
      "  3265  1706 419573.848   46  268 425169.856 411740.664  3.16%   159  221s\n",
      "  3570  1890 421574.385   67  177 425169.856 411740.664  3.16%   162  226s\n",
      "  3890  1953 423693.636   92  133 425169.856 411740.664  3.16%   159  231s\n",
      "H 3942  1870                    425156.02802 411740.664  3.16%   158  231s\n",
      "  4307  2227 424949.907  151   95 425156.028 411744.914  3.15%   153  236s\n",
      "  4689  2459 416690.621   21  264 425156.028 411744.914  3.15%   148  240s\n",
      "H 5217  2547                    425156.02730 411744.914  3.15%   141  244s\n",
      "  5290  2786 419601.554   33  280 425156.027 411744.914  3.15%   141  246s\n",
      "  5867  2807 419675.492   35  285 425156.027 411744.914  3.15%   134  250s\n",
      "  6039  2875 421118.393   49  268 425156.027 411744.914  3.15%   136  255s\n",
      "  6359  3000 423410.037  108  144 425156.027 411744.914  3.15%   138  260s\n",
      "  6553  3235 424616.437  140  133 425156.027 411963.604  3.10%   139  265s\n",
      "  6753  3296 421702.117   25  317 425156.027 411981.614  3.10%   141  281s\n",
      "H 6754  3145                    424742.58204 411981.614  3.00%   141  281s\n",
      "  6928  3440 424413.614   44  289 424742.582 412055.899  2.99%   142  287s\n",
      "  7139  3492 413086.110   19  352 424742.582 412080.387  2.98%   143  290s\n",
      "  7384  3792 416785.794   31  363 424742.582 412080.387  2.98%   145  295s\n",
      "  7682  4009 418509.009   51  309 424742.582 412080.387  2.98%   147  302s\n",
      "  7861  4093 419740.514   71  270 424742.582 412080.387  2.98%   149  306s\n",
      "  8260  4525 422605.485  131  160 424742.582 412080.387  2.98%   149  313s\n",
      "  8526  4834     cutoff  191      424742.582 412598.789  2.86%   149  318s\n",
      "  8908  5109 420526.793   24  293 424742.582 412598.789  2.86%   148  323s\n",
      "  9240  5459 423925.768   44  285 424742.582 412610.153  2.86%   147  328s\n",
      "  9673  5725 419144.622   21  295 424742.582 412610.153  2.86%   145  332s\n",
      " 10018  5870 420816.965   22  293 424742.582 412610.153  2.86%   145  336s\n",
      " 10254  6213     cutoff   34      424742.582 412860.632  2.80%   145  341s\n",
      " 10706  6550 415490.529   21  309 424742.582 412860.632  2.80%   144  346s\n",
      " 11122  7031 424574.079   32  283 424742.582 412874.483  2.79%   144  351s\n",
      " 11670  7540 417628.399   47  247 424742.582 412942.470  2.78%   142  357s\n",
      " 12214  8266 419283.522   89  180 424742.582 412942.470  2.78%   141  363s\n",
      " 13050  8623 422844.299  223   90 424742.582 413043.958  2.75%   136  368s\n",
      " 13470  8945 418176.308   32  293 424742.582 413178.385  2.72%   137  374s\n",
      " 13887  9326 423916.622   65  249 424742.582 413277.324  2.70%   138  381s\n",
      " 14354  9915 424493.428   33  256 424742.582 413378.310  2.68%   139  388s\n",
      " 15054 10473 417358.158   24  330 424742.582 413466.265  2.65%   137  395s\n",
      " 15718 11134 420799.947   60  269 424742.582 413472.011  2.65%   136  402s\n",
      " 16508 11630 416610.668   28  302 424742.582 413472.011  2.65%   135  411s\n",
      " 17171 12263 420354.603   76  198 424742.582 413673.481  2.61%   136  420s\n",
      " 17931 12907 416578.943   27  297 424742.582 413689.519  2.60%   136  428s\n",
      " 18662 13242 418249.283   61  327 424742.582 413689.519  2.60%   136  438s\n",
      " 19095 13979 419532.174   77  242 424742.582 413913.566  2.55%   136  447s\n",
      " 19955 14440 418758.702   25  362 424742.582 413964.629  2.54%   135  456s\n",
      "H20678  8675                    422315.43135 414016.142  1.97%   135  473s\n",
      "H20681  8150                    422089.62707 414016.142  1.91%   136  474s\n",
      " 20689  8333 417786.364   59  288 422089.627 414016.142  1.91%   136  481s\n",
      " 20925  9183 418771.812   82  203 422089.627 414058.575  1.90%   136  491s\n",
      " 21904  9720 416262.906   28  301 422089.627 414118.214  1.89%   135  503s\n",
      "H22358  9720                    422089.62672 414118.214  1.89%   135  503s\n",
      "H22439  9720                    422089.62617 414118.214  1.89%   136  503s\n",
      " 22572 10071 419628.724   75  248 422089.626 414300.681  1.85%   135  512s\n",
      " 23139 10619 420503.683   44  244 422089.626 414331.645  1.84%   137  522s\n",
      " 23919 11185 417673.049   48  270 422089.626 414397.264  1.82%   138  534s\n",
      "H24018 11185                    422089.62558 414397.264  1.82%   138  534s\n",
      " 24709 12135 418171.515   23  385 422089.626 414523.366  1.79%   139  546s\n",
      " 25845 12961     cutoff   51      422089.626 414562.510  1.78%   138  559s\n",
      " 26921 13821 421494.287  140  110 422089.626 414620.893  1.77%   138  572s\n",
      " 28019 14127 420685.442   26  330 422089.626 414722.379  1.75%   139  577s\n",
      "\n",
      "Cutting planes:\n",
      "  Gomory: 36\n",
      "  Cover: 21\n",
      "  MIR: 190\n",
      "  Flow cover: 124\n",
      "  RLT: 1\n",
      "  Relax-and-lift: 3\n",
      "\n",
      "Explored 28396 nodes (3972190 simplex iterations) in 577.63 seconds (2088.14 work units)\n",
      "Thread count was 10 (of 10 available processors)\n",
      "\n",
      "Solution count 10: 422090 422090 422090 ... 425493\n",
      "\n",
      "Solve interrupted\n",
      "Best objective 4.220896255946e+05, best bound 4.147223787844e+05, gap 1.7454%\n"
     ]
    },
    {
     "ename": "SolverError",
     "evalue": "Solver 'GUROBI' failed. Try another solver, or solve with verbose=True for more information.",
     "output_type": "error",
     "traceback": [
      "\u001b[0;31m---------------------------------------------------------------------------\u001b[0m",
      "\u001b[0;31mSolverError\u001b[0m                               Traceback (most recent call last)",
      "Input \u001b[0;32mIn [386]\u001b[0m, in \u001b[0;36m<cell line: 1>\u001b[0;34m()\u001b[0m\n\u001b[0;32m----> 1\u001b[0m opt2, p2, r2, theta2, u2, v2, w2 \u001b[38;5;241m=\u001b[39m \u001b[43muc\u001b[49m\u001b[43m(\u001b[49m\u001b[43mnp\u001b[49m\u001b[38;5;241;43m.\u001b[39;49m\u001b[43mappend\u001b[49m\u001b[43m(\u001b[49m\u001b[43mPd\u001b[49m\u001b[43m[\u001b[49m\u001b[38;5;241;43m0\u001b[39;49m\u001b[43m]\u001b[49m\u001b[43m,\u001b[49m\u001b[43m \u001b[49m\u001b[43mPd\u001b[49m\u001b[43m[\u001b[49m\u001b[38;5;241;43m1\u001b[39;49m\u001b[43m]\u001b[49m\u001b[43m,\u001b[49m\u001b[43m \u001b[49m\u001b[43maxis\u001b[49m\u001b[38;5;241;43m=\u001b[39;49m\u001b[38;5;241;43m0\u001b[39;49m\u001b[43m)\u001b[49m\u001b[38;5;241;43m.\u001b[39;49m\u001b[43mT\u001b[49m\u001b[43m,\u001b[49m\u001b[43m \u001b[49m\u001b[43mp_p\u001b[49m\u001b[38;5;241;43m=\u001b[39;49m\u001b[43mp\u001b[49m\u001b[38;5;241;43m.\u001b[39;49m\u001b[43mvalue\u001b[49m\u001b[43m,\u001b[49m\u001b[43mr_p\u001b[49m\u001b[38;5;241;43m=\u001b[39;49m\u001b[43mr\u001b[49m\u001b[38;5;241;43m.\u001b[39;49m\u001b[43mvalue\u001b[49m\u001b[43m,\u001b[49m\u001b[43mtheta_p\u001b[49m\u001b[38;5;241;43m=\u001b[39;49m\u001b[43mtheta\u001b[49m\u001b[38;5;241;43m.\u001b[39;49m\u001b[43mvalue\u001b[49m\u001b[43m,\u001b[49m\u001b[43mu_p\u001b[49m\u001b[38;5;241;43m=\u001b[39;49m\u001b[43mu\u001b[49m\u001b[38;5;241;43m.\u001b[39;49m\u001b[43mvalue\u001b[49m\u001b[43m,\u001b[49m\u001b[43mv_p\u001b[49m\u001b[38;5;241;43m=\u001b[39;49m\u001b[43mv\u001b[49m\u001b[38;5;241;43m.\u001b[39;49m\u001b[43mvalue\u001b[49m\u001b[43m,\u001b[49m\u001b[43mw_p\u001b[49m\u001b[38;5;241;43m=\u001b[39;49m\u001b[43mw\u001b[49m\u001b[38;5;241;43m.\u001b[39;49m\u001b[43mvalue\u001b[49m\u001b[43m,\u001b[49m\u001b[43mday\u001b[49m\u001b[38;5;241;43m=\u001b[39;49m\u001b[38;5;241;43m2\u001b[39;49m\u001b[43m)\u001b[49m\n",
      "Input \u001b[0;32mIn [376]\u001b[0m, in \u001b[0;36muc\u001b[0;34m(d, p_p, r_p, theta_p, u_p, v_p, w_p, day)\u001b[0m\n\u001b[1;32m     47\u001b[0m constraints \u001b[38;5;241m=\u001b[39m power_flow_constraints \u001b[38;5;241m+\u001b[39m flow_limits \u001b[38;5;241m+\u001b[39m generator_limits \u001b[38;5;241m+\u001b[39m commitment_constraints \u001b[38;5;241m+\u001b[39m reserve_constraints \u001b[38;5;241m+\u001b[39m ramp_limits_startup \u001b[38;5;241m+\u001b[39m ramp_limits_shutdown \u001b[38;5;241m+\u001b[39m min_up_time_constraints \u001b[38;5;241m+\u001b[39m min_down_time_constraints\n\u001b[1;32m     49\u001b[0m prob \u001b[38;5;241m=\u001b[39m cp\u001b[38;5;241m.\u001b[39mProblem(obj, constraints)\n\u001b[0;32m---> 50\u001b[0m opt \u001b[38;5;241m=\u001b[39m \u001b[43mprob\u001b[49m\u001b[38;5;241;43m.\u001b[39;49m\u001b[43msolve\u001b[49m\u001b[43m(\u001b[49m\u001b[43msolver\u001b[49m\u001b[43m \u001b[49m\u001b[38;5;241;43m=\u001b[39;49m\u001b[43m \u001b[49m\u001b[43mcp\u001b[49m\u001b[38;5;241;43m.\u001b[39;49m\u001b[43mGUROBI\u001b[49m\u001b[43m,\u001b[49m\u001b[43m \u001b[49m\u001b[43mverbose\u001b[49m\u001b[38;5;241;43m=\u001b[39;49m\u001b[38;5;28;43;01mTrue\u001b[39;49;00m\u001b[43m,\u001b[49m\u001b[43mMIPgap\u001b[49m\u001b[43m \u001b[49m\u001b[38;5;241;43m=\u001b[39;49m\u001b[43m \u001b[49m\u001b[38;5;241;43m0.01\u001b[39;49m\u001b[43m)\u001b[49m\n\u001b[1;32m     51\u001b[0m \u001b[38;5;28;01mreturn\u001b[39;00m opt, p, r, theta, u, v, w\n",
      "File \u001b[0;32m/opt/homebrew/lib/python3.10/site-packages/cvxpy/problems/problem.py:481\u001b[0m, in \u001b[0;36mProblem.solve\u001b[0;34m(self, *args, **kwargs)\u001b[0m\n\u001b[1;32m    479\u001b[0m \u001b[38;5;28;01melse\u001b[39;00m:\n\u001b[1;32m    480\u001b[0m     solve_func \u001b[38;5;241m=\u001b[39m Problem\u001b[38;5;241m.\u001b[39m_solve\n\u001b[0;32m--> 481\u001b[0m \u001b[38;5;28;01mreturn\u001b[39;00m \u001b[43msolve_func\u001b[49m\u001b[43m(\u001b[49m\u001b[38;5;28;43mself\u001b[39;49m\u001b[43m,\u001b[49m\u001b[43m \u001b[49m\u001b[38;5;241;43m*\u001b[39;49m\u001b[43margs\u001b[49m\u001b[43m,\u001b[49m\u001b[43m \u001b[49m\u001b[38;5;241;43m*\u001b[39;49m\u001b[38;5;241;43m*\u001b[39;49m\u001b[43mkwargs\u001b[49m\u001b[43m)\u001b[49m\n",
      "File \u001b[0;32m/opt/homebrew/lib/python3.10/site-packages/cvxpy/problems/problem.py:1020\u001b[0m, in \u001b[0;36mProblem._solve\u001b[0;34m(self, solver, warm_start, verbose, gp, qcp, requires_grad, enforce_dpp, ignore_dpp, **kwargs)\u001b[0m\n\u001b[1;32m   1018\u001b[0m end \u001b[38;5;241m=\u001b[39m time\u001b[38;5;241m.\u001b[39mtime()\n\u001b[1;32m   1019\u001b[0m \u001b[38;5;28mself\u001b[39m\u001b[38;5;241m.\u001b[39m_solve_time \u001b[38;5;241m=\u001b[39m end \u001b[38;5;241m-\u001b[39m start\n\u001b[0;32m-> 1020\u001b[0m \u001b[38;5;28;43mself\u001b[39;49m\u001b[38;5;241;43m.\u001b[39;49m\u001b[43munpack_results\u001b[49m\u001b[43m(\u001b[49m\u001b[43msolution\u001b[49m\u001b[43m,\u001b[49m\u001b[43m \u001b[49m\u001b[43msolving_chain\u001b[49m\u001b[43m,\u001b[49m\u001b[43m \u001b[49m\u001b[43minverse_data\u001b[49m\u001b[43m)\u001b[49m\n\u001b[1;32m   1021\u001b[0m \u001b[38;5;28;01mif\u001b[39;00m verbose:\n\u001b[1;32m   1022\u001b[0m     \u001b[38;5;28mprint\u001b[39m(_FOOTER)\n",
      "File \u001b[0;32m/opt/homebrew/lib/python3.10/site-packages/cvxpy/problems/problem.py:1345\u001b[0m, in \u001b[0;36mProblem.unpack_results\u001b[0;34m(self, solution, chain, inverse_data)\u001b[0m\n\u001b[1;32m   1343\u001b[0m     warnings\u001b[38;5;241m.\u001b[39mwarn(INF_OR_UNB_MESSAGE)\n\u001b[1;32m   1344\u001b[0m \u001b[38;5;28;01mif\u001b[39;00m solution\u001b[38;5;241m.\u001b[39mstatus \u001b[38;5;129;01min\u001b[39;00m s\u001b[38;5;241m.\u001b[39mERROR:\n\u001b[0;32m-> 1345\u001b[0m     \u001b[38;5;28;01mraise\u001b[39;00m error\u001b[38;5;241m.\u001b[39mSolverError(\n\u001b[1;32m   1346\u001b[0m             \u001b[38;5;124m\"\u001b[39m\u001b[38;5;124mSolver \u001b[39m\u001b[38;5;124m'\u001b[39m\u001b[38;5;132;01m%s\u001b[39;00m\u001b[38;5;124m'\u001b[39m\u001b[38;5;124m failed. \u001b[39m\u001b[38;5;124m\"\u001b[39m \u001b[38;5;241m%\u001b[39m chain\u001b[38;5;241m.\u001b[39msolver\u001b[38;5;241m.\u001b[39mname() \u001b[38;5;241m+\u001b[39m\n\u001b[1;32m   1347\u001b[0m             \u001b[38;5;124m\"\u001b[39m\u001b[38;5;124mTry another solver, or solve with verbose=True for more \u001b[39m\u001b[38;5;124m\"\u001b[39m\n\u001b[1;32m   1348\u001b[0m             \u001b[38;5;124m\"\u001b[39m\u001b[38;5;124minformation.\u001b[39m\u001b[38;5;124m\"\u001b[39m)\n\u001b[1;32m   1350\u001b[0m \u001b[38;5;28mself\u001b[39m\u001b[38;5;241m.\u001b[39munpack(solution)\n\u001b[1;32m   1351\u001b[0m \u001b[38;5;28mself\u001b[39m\u001b[38;5;241m.\u001b[39m_solver_stats \u001b[38;5;241m=\u001b[39m SolverStats(\u001b[38;5;28mself\u001b[39m\u001b[38;5;241m.\u001b[39m_solution\u001b[38;5;241m.\u001b[39mattr,\n\u001b[1;32m   1352\u001b[0m                                  chain\u001b[38;5;241m.\u001b[39msolver\u001b[38;5;241m.\u001b[39mname())\n",
      "\u001b[0;31mSolverError\u001b[0m: Solver 'GUROBI' failed. Try another solver, or solve with verbose=True for more information."
     ]
    }
   ],
   "source": [
    "opt2, p2, r2, theta2, u2, v2, w2 = uc(np.append(Pd[0], Pd[1], axis=0).T, p_p=p.value,r_p=r.value,theta_p=theta.value,u_p=u.value,v_p=v.value,w_p=w.value,day=2)"
   ]
  },
  {
   "cell_type": "code",
   "execution_count": 375,
   "id": "7b1dc785-be8c-42e0-9a43-863020b9fcf9",
   "metadata": {},
   "outputs": [],
   "source": [
    "p2.value"
   ]
  },
  {
   "cell_type": "code",
   "execution_count": null,
   "id": "dbe15389-7a73-4ee9-b867-124b6b9429c6",
   "metadata": {},
   "outputs": [],
   "source": []
  }
 ],
 "metadata": {
  "kernelspec": {
   "display_name": "Python 3 (ipykernel)",
   "language": "python",
   "name": "python3"
  },
  "language_info": {
   "codemirror_mode": {
    "name": "ipython",
    "version": 3
   },
   "file_extension": ".py",
   "mimetype": "text/x-python",
   "name": "python",
   "nbconvert_exporter": "python",
   "pygments_lexer": "ipython3",
   "version": "3.10.10"
  }
 },
 "nbformat": 4,
 "nbformat_minor": 5
}
