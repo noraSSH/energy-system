{
 "cells": [
  {
   "cell_type": "code",
   "execution_count": 2,
   "metadata": {},
   "outputs": [
    {
     "name": "stdout",
     "output_type": "stream",
     "text": [
      "Set parameter Username\n",
      "Academic license - for non-commercial use only - expires 2023-10-28\n"
     ]
    },
    {
     "data": {
      "text/plain": [
       "13.660003257778829"
      ]
     },
     "execution_count": 2,
     "metadata": {},
     "output_type": "execute_result"
    }
   ],
   "source": [
    "import cvxpy as cp\n",
    "import numpy as np\n",
    "# Generate a random problem\n",
    "np.random.seed(0)\n",
    "m, n= 40, 25\n",
    "\n",
    "A = np.random.rand(m, n)\n",
    "b = np.random.randn(m)\n",
    "# Construct a CVXPY problem\n",
    "x = cp.Variable(n, integer=True)\n",
    "objective = cp.Minimize(cp.sum_squares(A @ x - b))\n",
    "prob = cp.Problem(objective)\n",
    "prob.solve(solver = cp.GUROBI)"
   ]
  },
  {
   "cell_type": "code",
   "execution_count": null,
   "metadata": {},
   "outputs": [],
   "source": []
  }
 ],
 "metadata": {
  "kernelspec": {
   "display_name": "base",
   "language": "python",
   "name": "python3"
  },
  "language_info": {
   "codemirror_mode": {
    "name": "ipython",
    "version": 3
   },
   "file_extension": ".py",
   "mimetype": "text/x-python",
   "name": "python",
   "nbconvert_exporter": "python",
   "pygments_lexer": "ipython3",
   "version": "3.8.12"
  },
  "orig_nbformat": 4
 },
 "nbformat": 4,
 "nbformat_minor": 2
}
