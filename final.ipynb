{
 "cells": [
  {
   "cell_type": "code",
   "execution_count": 1,
   "id": "dd2218b4-20ac-4e0c-bee5-ae7b311da16e",
   "metadata": {},
   "outputs": [
    {
     "name": "stdout",
     "output_type": "stream",
     "text": [
      "===============================================================================\n",
      "                                     CVXPY                                     \n",
      "                                     v1.3.0                                    \n",
      "===============================================================================\n",
      "(CVXPY) May 10 02:05:25 PM: Your problem has 25 variables, 0 constraints, and 0 parameters.\n",
      "(CVXPY) May 10 02:05:25 PM: It is compliant with the following grammars: DCP, DQCP\n",
      "(CVXPY) May 10 02:05:25 PM: (If you need to solve this problem multiple times, but with different data, consider using parameters.)\n",
      "(CVXPY) May 10 02:05:25 PM: CVXPY will first compile your problem; then, it will invoke a numerical solver to obtain a solution.\n",
      "-------------------------------------------------------------------------------\n",
      "                                  Compilation                                  \n",
      "-------------------------------------------------------------------------------\n",
      "(CVXPY) May 10 02:05:25 PM: Compiling problem (target solver=GUROBI).\n",
      "(CVXPY) May 10 02:05:25 PM: Reduction chain: CvxAttr2Constr -> Qp2SymbolicQp -> QpMatrixStuffing -> GUROBI\n",
      "(CVXPY) May 10 02:05:25 PM: Applying reduction CvxAttr2Constr\n",
      "(CVXPY) May 10 02:05:25 PM: Applying reduction Qp2SymbolicQp\n",
      "(CVXPY) May 10 02:05:25 PM: Applying reduction QpMatrixStuffing\n",
      "(CVXPY) May 10 02:05:25 PM: Applying reduction GUROBI\n",
      "(CVXPY) May 10 02:05:25 PM: Finished problem compilation (took 3.500e-02 seconds).\n",
      "-------------------------------------------------------------------------------\n",
      "                                Numerical solver                               \n",
      "-------------------------------------------------------------------------------\n",
      "(CVXPY) May 10 02:05:25 PM: Invoking solver GUROBI  to obtain a solution.\n",
      "Set parameter Username\n",
      "Academic license - for non-commercial use only - expires 2024-04-23\n",
      "Set parameter QCPDual to value 1\n",
      "Gurobi Optimizer version 10.0.1 build v10.0.1rc0 (win64)\n",
      "\n",
      "CPU model: AMD Ryzen 7 5800H with Radeon Graphics, instruction set [SSE2|AVX|AVX2]\n",
      "Thread count: 8 physical cores, 16 logical processors, using up to 16 threads\n",
      "\n",
      "Optimize a model with 40 rows, 65 columns and 1040 nonzeros\n",
      "Model fingerprint: 0xb884433b\n",
      "Model has 40 quadratic objective terms\n",
      "Variable types: 40 continuous, 25 integer (0 binary)\n",
      "Coefficient statistics:\n",
      "  Matrix range     [5e-04, 1e+00]\n",
      "  Objective range  [0e+00, 0e+00]\n",
      "  QObjective range [2e+00, 2e+00]\n",
      "  Bounds range     [0e+00, 0e+00]\n",
      "  RHS range        [4e-02, 2e+00]\n",
      "\n",
      "No start values specified in MIP start\n",
      "\n",
      "Found heuristic solution: objective 38.1894003\n",
      "Presolve time: 0.02s\n",
      "Presolved: 40 rows, 65 columns, 1040 nonzeros\n",
      "Presolved model has 40 quadratic objective terms\n",
      "Variable types: 40 continuous, 25 integer (0 binary)\n",
      "\n",
      "Root relaxation: objective 1.161750e+01, 66 iterations, 0.01 seconds (0.00 work units)\n",
      "\n",
      "    Nodes    |    Current Node    |     Objective Bounds      |     Work\n",
      " Expl Unexpl |  Obj  Depth IntInf | Incumbent    BestBd   Gap | It/Node Time\n",
      "\n",
      "     0     0   11.61750    0   25   38.18940   11.61750  69.6%     -    0s\n",
      "H    0     0                      34.4827369   11.61750  66.3%     -    0s\n",
      "H    0     0                      24.4101013   11.61750  52.4%     -    0s\n",
      "H    0     0                      17.1134417   11.61750  32.1%     -    0s\n",
      "     0     0   12.58748    0   25   17.11344   12.58748  26.4%     -    0s\n",
      "     0     2   12.58748    0   25   17.11344   12.58748  26.4%     -    0s\n",
      "H   11    16                      16.7202662   12.58748  24.7%   1.8    0s\n",
      "H   52    63                      16.3759884   13.23235  19.2%   2.0    0s\n",
      "H  786   281                      16.2696361   14.62806  10.1%   2.3    0s\n",
      "\n",
      "Explored 1911 nodes (4387 simplex iterations) in 0.30 seconds (0.09 work units)\n",
      "Thread count was 16 (of 16 available processors)\n",
      "\n",
      "Solution count 7: 16.2696 16.376 16.7203 ... 38.1894\n",
      "\n",
      "Optimal solution found (tolerance 1.00e-04)\n",
      "Best objective 1.626963610799e+01, best bound 1.626963610799e+01, gap 0.0000%\n",
      "-------------------------------------------------------------------------------\n",
      "                                    Summary                                    \n",
      "-------------------------------------------------------------------------------\n",
      "(CVXPY) May 10 02:05:26 PM: Problem status: optimal\n",
      "(CVXPY) May 10 02:05:26 PM: Optimal value: 1.627e+01\n",
      "(CVXPY) May 10 02:05:26 PM: Compilation took 3.500e-02 seconds\n",
      "(CVXPY) May 10 02:05:26 PM: Solver (including time spent in interface) took 3.740e-01 seconds\n"
     ]
    },
    {
     "data": {
      "text/plain": [
       "16.269636107986205"
      ]
     },
     "execution_count": 1,
     "metadata": {},
     "output_type": "execute_result"
    }
   ],
   "source": [
    "import cvxpy as cp\n",
    "import numpy as np\n",
    "import matplotlib.pyplot as plt\n",
    "# Generate a random problem np.random.seed(0)\n",
    "m, n= 40, 25\n",
    "A = np.random.rand(m, n)\n",
    "b = np.random.randn(m)\n",
    "# Construct a CVXPY problem\n",
    "x = cp.Variable(n, integer=True)\n",
    "objective = cp.Minimize(cp.sum_squares(A @ x - b)) \n",
    "prob = cp.Problem(objective)\n",
    "prob.solve(solver = cp.GUROBI ,verbose = True)"
   ]
  },
  {
   "cell_type": "code",
   "execution_count": 2,
   "id": "4be9a328-6fcd-47da-94ea-6ed5a09203a5",
   "metadata": {},
   "outputs": [],
   "source": [
    "import pandas as pd\n",
    "import networkx as nx"
   ]
  },
  {
   "cell_type": "code",
   "execution_count": 3,
   "id": "285e1be2",
   "metadata": {},
   "outputs": [
    {
     "name": "stdout",
     "output_type": "stream",
     "text": [
      "186\n"
     ]
    }
   ],
   "source": [
    "bus_data = pd.read_csv('Bus.csv').dropna()\n",
    "branch_data = pd.read_csv('Branch.csv').dropna()\n",
    "load_data = pd.read_csv('Load.csv').dropna()\n",
    "generation_data = pd.read_csv('Generation.csv').dropna()\n",
    "print(len(branch_data))"
   ]
  },
  {
   "cell_type": "code",
   "execution_count": 4,
   "id": "1ce5aa09",
   "metadata": {},
   "outputs": [],
   "source": [
    "# question 1.d\n",
    "# build the vectors of constants\n",
    "# all the costs\n",
    "c_l = generation_data['LinearCost'].to_numpy()\n",
    "c_nl = generation_data['NoLoadCost'].to_numpy()\n",
    "c_su = generation_data['StartupCost'].to_numpy()\n",
    "c_sd = generation_data['ShutdownCost'].to_numpy()\n",
    "c_r = generation_data['ReserveCost'].to_numpy()"
   ]
  },
  {
   "cell_type": "code",
   "execution_count": 5,
   "id": "9f28e87b",
   "metadata": {},
   "outputs": [],
   "source": [
    "# Pl\n",
    "Pl = np.expand_dims(branch_data['rateA'].to_numpy() / 100, axis=1)"
   ]
  },
  {
   "cell_type": "code",
   "execution_count": 6,
   "id": "8e35d924",
   "metadata": {},
   "outputs": [
    {
     "name": "stdout",
     "output_type": "stream",
     "text": [
      "(186,)\n"
     ]
    }
   ],
   "source": [
    "# b: shall we divide it by 100?\n",
    "b = branch_data['B(susceptance)'].to_numpy() / 100\n",
    "print(b.shape)"
   ]
  },
  {
   "cell_type": "code",
   "execution_count": 7,
   "id": "e0f5ea91",
   "metadata": {},
   "outputs": [
    {
     "name": "stdout",
     "output_type": "stream",
     "text": [
      "(118, 186)\n"
     ]
    }
   ],
   "source": [
    "# M\n",
    "N = bus_data.shape[0]\n",
    "E = branch_data.shape[0]\n",
    "bus_mappings = {bus:bus-1 for bus in bus_data['BusNumber']}\n",
    "M = np.zeros((N, E))\n",
    "for idx, (fbus, tbus) in enumerate(zip(branch_data['from_bus'], branch_data['to_bus'])):\n",
    "    M[bus_mappings[fbus], idx] = 1\n",
    "    M[bus_mappings[tbus], idx] = -1\n",
    "print(M.shape)\n"
   ]
  },
  {
   "cell_type": "code",
   "execution_count": 8,
   "id": "958f44d5",
   "metadata": {},
   "outputs": [
    {
     "name": "stdout",
     "output_type": "stream",
     "text": [
      "(118, 118)\n"
     ]
    }
   ],
   "source": [
    "# B\n",
    "B = np.dot(np.dot(M, np.diag(b)), M.T)\n",
    "print(B.shape)"
   ]
  },
  {
   "cell_type": "code",
   "execution_count": 9,
   "id": "84758be7",
   "metadata": {},
   "outputs": [],
   "source": [
    "# p\n",
    "p_max = generation_data['Pmax'] / 100\n",
    "p_min = generation_data['Pmin'] / 100"
   ]
  },
  {
   "cell_type": "code",
   "execution_count": 10,
   "id": "9f801183",
   "metadata": {},
   "outputs": [
    {
     "name": "stdout",
     "output_type": "stream",
     "text": [
      "[1. 1. 0. 0. 0. 0. 0. 0. 0. 0. 0. 0. 0. 0. 0. 0. 0. 0. 0. 0. 0. 0. 0. 0.\n",
      " 0. 0. 0. 0. 0. 0. 0. 0. 0. 0. 0. 0. 0. 0. 0. 0. 0. 0. 0. 0. 0. 0. 0. 0.\n",
      " 0. 0. 0. 0. 0. 0.]\n"
     ]
    }
   ],
   "source": [
    "# selection matrix Eg\n",
    "Ng = generation_data.shape[0]\n",
    "Eg = np.zeros((N, Ng))\n",
    "for i in range(Ng):\n",
    "    Eg[generation_data['Bus'][i] - 1, i] = 1\n",
    "print(Eg[9])"
   ]
  },
  {
   "cell_type": "code",
   "execution_count": 11,
   "id": "2a2f8acd",
   "metadata": {},
   "outputs": [],
   "source": [
    "# ramps\n",
    "r_hr = generation_data['HourlyRamp']\n",
    "r_su = generation_data['Startup/ShutdownRamp']\n",
    "r_sd = generation_data['Startup/ShutdownRamp']"
   ]
  },
  {
   "cell_type": "code",
   "execution_count": 12,
   "id": "b039ec93",
   "metadata": {},
   "outputs": [],
   "source": [
    "# question 1.e\n",
    "T = 24\n",
    "Pload = np.expand_dims(bus_data['Pload'], axis=1)\n",
    "day1 = np.expand_dims(load_data['Day1'], axis=1).T\n",
    "day2 = np.expand_dims(load_data['Day2'], axis=1).T\n",
    "day3 = np.expand_dims(load_data['Day3'], axis=1).T\n",
    "day4 = np.expand_dims(load_data['Day4'], axis=1).T\n",
    "day5 = np.expand_dims(load_data['Day5'], axis=1).T\n",
    "\n",
    "P1 = (Pload @ day1) / 10000\n",
    "P2 = (Pload @ day2) / 10000\n",
    "P3 = (Pload @ day3) / 10000\n",
    "P4 = (Pload @ day4) / 10000\n",
    "P5 = (Pload @ day5) / 10000"
   ]
  },
  {
   "cell_type": "code",
   "execution_count": 13,
   "id": "a2e7e6bf",
   "metadata": {},
   "outputs": [
    {
     "name": "stdout",
     "output_type": "stream",
     "text": [
      "[28.0178 26.6621 25.3064 24.8545 24.8545 25.3064 31.1811 36.152  40.2191\n",
      " 40.671  40.671  40.2191 40.2191 40.2191 39.3153 39.7672 41.5748 42.0267\n",
      " 42.0267 40.671  38.4115 34.7963 30.7292 26.6621]\n"
     ]
    }
   ],
   "source": [
    "total_load = np.zeros((5, 24))\n",
    "for i in range(24):\n",
    "    total_load[0, i] = np.sum(P1[:, i])\n",
    "    total_load[1, i] = np.sum(P2[:, i])\n",
    "    total_load[2, i] = np.sum(P3[:, i])\n",
    "    total_load[3, i] = np.sum(P4[:, i])\n",
    "    total_load[4, i] = np.sum(P5[:, i])\n",
    "print(total_load[0])"
   ]
  },
  {
   "cell_type": "code",
   "execution_count": 14,
   "id": "8aed2ecc",
   "metadata": {},
   "outputs": [
    {
     "data": {
      "image/png": "[encoded data removed]",
      "text/plain": [
       "<Figure size 640x480 with 1 Axes>"
      ]
     },
     "metadata": {},
     "output_type": "display_data"
    }
   ],
   "source": [
    "hours = np.arange(1, 25)\n",
    "plt.plot(hours, total_load[0], label=\"Day1\")\n",
    "plt.plot(hours, total_load[1], label=\"Day2\")\n",
    "plt.plot(hours, total_load[2], label=\"Day3\")\n",
    "plt.plot(hours, total_load[3], label=\"Day4\")\n",
    "plt.plot(hours, total_load[4], label=\"Day5\")\n",
    "plt.xlabel(\"hours\")\n",
    "plt.ylabel(\"total load\")\n",
    "plt.legend()\n",
    "plt.show()"
   ]
  },
  {
   "cell_type": "code",
   "execution_count": 15,
   "id": "1f43764a",
   "metadata": {},
   "outputs": [],
   "source": [
    "# question 1.f\n",
    "# uc.py\n",
    "# the first day\n",
    "\n",
    "p = cp.Variable((generation_data.shape[0],T))\n",
    "r = cp.Variable((generation_data.shape[0],T))\n",
    "theta = cp.Variable((N,T))\n",
    "u = cp.Variable((generation_data.shape[0],T),boolean = True) # Commitment variable\n",
    "v = cp.Variable((generation_data.shape[0],T),boolean = True) # Startup variable\n",
    "w = cp.Variable((generation_data.shape[0],T),boolean = True) # Shutdown variable"
   ]
  },
  {
   "cell_type": "code",
   "execution_count": 16,
   "id": "7022c5d0",
   "metadata": {},
   "outputs": [],
   "source": [
    "# is the given formula incorrect?\n",
    "obj = cp.Minimize(cp.sum(c_l.T@p + c_su.T@v + c_sd.T@w + c_nl.T@u + c_r.T@r))"
   ]
  },
  {
   "cell_type": "code",
   "execution_count": 17,
   "id": "faf4f71a",
   "metadata": {},
   "outputs": [],
   "source": [
    "power_flow_constraints = [Eg@p - P1 == B@theta]\n",
    "flow_limits = [(-Pl)@np.ones((1,T)) <= np.diag(b)@M.T@theta, np.diag(b)@M.T@theta <= Pl@np.ones((1,T))]\n",
    "\n",
    "# ??? why transpose for these diags for these limits\n",
    "# generator_limits = [np.diag(p_min.T[0])@u + r <= p, p <= np.diag(p_max.T[0])@u - r]\n",
    "generator_limits = [np.diag(p_min)@u + r <= p, p <= np.diag(p_max)@u - r]\n",
    "ramp_limits_startup = [p[:,i] - p[:,i-1] <= np.diag(r_hr)@u[:,i-1] + np.diag(r_su)@v[:,i] for i in range(1,T)]\n",
    "ramp_limits_shutdown = [p[:,i-1] - p[:,i] <= np.diag(r_hr)@u[:,i] + np.diag(r_su)@w[:,i] for i in range(1,T)]\n",
    "\n",
    "commitment_constraints = [v[:,i] - w[:,i] == u[:,i] - u[:,i-1] for i in range(1,T)]"
   ]
  },
  {
   "cell_type": "code",
   "execution_count": 18,
   "id": "b74a0a4c",
   "metadata": {},
   "outputs": [],
   "source": [
    "min_up_time = generation_data['minUP']\n",
    "min_down_time = generation_data['minDOWN']\n",
    "min_up_time_constraints = []\n",
    "for idx, utime in enumerate(min_up_time):\n",
    "    for t in range(utime-1,T):\n",
    "        min_up_time_constraints += [cp.sum(v[idx,t-utime+1:t+1]) <= u[idx,t]]\n",
    "\n",
    "min_down_time_constraints = []\n",
    "for idx, dtime in enumerate(min_down_time):\n",
    "    for t in range(dtime-1,T):\n",
    "        min_down_time_constraints += [cp.sum(w[idx,t-dtime+1:t+1]) <= 1-u[idx,t]]"
   ]
  },
  {
   "cell_type": "code",
   "execution_count": 20,
   "id": "362dc821",
   "metadata": {},
   "outputs": [],
   "source": [
    "# reserve_constraints = [cp.sum(r[:,t]) >= 0.07*cp.sum(P1[:,t]) for t in range(T)]\n",
    "reserve_constraints = [cp.sum(r[:,t]) >= p[idx,t] + r[idx,t] for t in range(T) for idx,_ in enumerate(p_max)]\n",
    "reserve_constraints += [r <= np.diag(p_max)@u, r >= 0]"
   ]
  },
  {
   "cell_type": "code",
   "execution_count": 21,
   "id": "b8002210",
   "metadata": {},
   "outputs": [
    {
     "name": "stdout",
     "output_type": "stream",
     "text": [
      "===============================================================================\n",
      "                                     CVXPY                                     \n",
      "                                     v1.3.0                                    \n",
      "===============================================================================\n",
      "(CVXPY) May 10 02:06:02 PM: Your problem has 9312 variables, 3441 constraints, and 0 parameters.\n",
      "(CVXPY) May 10 02:06:02 PM: It is compliant with the following grammars: DCP, DQCP\n",
      "(CVXPY) May 10 02:06:02 PM: (If you need to solve this problem multiple times, but with different data, consider using parameters.)\n",
      "(CVXPY) May 10 02:06:02 PM: CVXPY will first compile your problem; then, it will invoke a numerical solver to obtain a solution.\n",
      "-------------------------------------------------------------------------------\n",
      "                                  Compilation                                  \n",
      "-------------------------------------------------------------------------------\n",
      "(CVXPY) May 10 02:06:03 PM: Compiling problem (target solver=GUROBI).\n",
      "(CVXPY) May 10 02:06:03 PM: Reduction chain: CvxAttr2Constr -> Qp2SymbolicQp -> QpMatrixStuffing -> GUROBI\n",
      "(CVXPY) May 10 02:06:03 PM: Applying reduction CvxAttr2Constr\n",
      "(CVXPY) May 10 02:06:03 PM: Applying reduction Qp2SymbolicQp\n",
      "(CVXPY) May 10 02:06:04 PM: Applying reduction QpMatrixStuffing\n",
      "(CVXPY) May 10 02:06:10 PM: Applying reduction GUROBI\n",
      "(CVXPY) May 10 02:06:10 PM: Finished problem compilation (took 7.195e+00 seconds).\n",
      "-------------------------------------------------------------------------------\n",
      "                                Numerical solver                               \n",
      "-------------------------------------------------------------------------------\n",
      "(CVXPY) May 10 02:06:10 PM: Invoking solver GUROBI  to obtain a solution.\n",
      "Set parameter QCPDual to value 1\n",
      "No parameters matching 'reoptimize' found\n",
      "Set parameter MIPGap to value 0.01\n",
      "Gurobi Optimizer version 10.0.1 build v10.0.1rc0 (win64)\n",
      "\n",
      "CPU model: AMD Ryzen 7 5800H with Radeon Graphics, instruction set [SSE2|AVX|AVX2]\n",
      "Thread count: 8 physical cores, 16 logical processors, using up to 16 threads\n",
      "\n",
      "Optimize a model with 24035 rows, 9312 columns and 136807 nonzeros\n",
      "Model fingerprint: 0xbff7ef0e\n",
      "Variable types: 5424 continuous, 3888 integer (3888 binary)\n",
      "Coefficient statistics:\n",
      "  Matrix range     [2e-02, 3e+03]\n",
      "  Objective range  [6e+00, 6e+03]\n",
      "  Bounds range     [1e+00, 1e+00]\n",
      "  RHS range        [1e-02, 1e+01]\n",
      "\n",
      "No start values specified in MIP start\n",
      "\n",
      "Presolve removed 4823 rows and 457 columns\n",
      "Presolve time: 0.87s\n",
      "Presolved: 19212 rows, 8855 columns, 129235 nonzeros\n",
      "Variable types: 5075 continuous, 3780 integer (3780 binary)\n",
      "Found heuristic solution: objective 443273.23188\n",
      "\n",
      "Root simplex log...\n",
      "\n",
      "Iteration    Objective       Primal Inf.    Dual Inf.      Time\n",
      "   11359    1.8672414e+05   0.000000e+00   0.000000e+00      5s\n",
      "\n",
      "Root relaxation: objective 1.867241e+05, 11359 iterations, 2.90 seconds (2.55 work units)\n",
      "\n",
      "    Nodes    |    Current Node    |     Objective Bounds      |     Work\n",
      " Expl Unexpl |  Obj  Depth IntInf | Incumbent    BestBd   Gap | It/Node Time\n",
      "\n",
      "     0     0 186724.106    0  136 443273.232 186724.106  57.9%     -    5s\n",
      "Another try with MIP start\n",
      "H    0     0                    442838.12773 186724.106  57.8%     -    6s\n",
      "H    0     0                    439686.77848 186727.141  57.5%     -    7s\n",
      "     0     0 187167.702    0  175 439686.778 187167.702  57.4%     -    7s\n",
      "     0     0 187298.802    0  189 439686.778 187298.802  57.4%     -    8s\n",
      "     0     0 187307.077    0  164 439686.778 187307.077  57.4%     -    8s\n",
      "     0     0 187307.077    0  157 439686.778 187307.077  57.4%     -    9s\n",
      "     0     0 187307.077    0  157 439686.778 187307.077  57.4%     -    9s\n",
      "     0     0 187307.410    0  157 439686.778 187307.410  57.4%     -    9s\n",
      "     0     0 187307.410    0  157 439686.778 187307.410  57.4%     -    9s\n",
      "     0     0 187311.371    0  156 439686.778 187311.371  57.4%     -    9s\n",
      "     0     0 187311.371    0  156 439686.778 187311.371  57.4%     -    9s\n",
      "     0     0 187317.142    0  156 439686.778 187317.142  57.4%     -    9s\n",
      "     0     0 187317.931    0  146 439686.778 187317.931  57.4%     -   10s\n",
      "     0     0 187317.932    0  146 439686.778 187317.932  57.4%     -   10s\n",
      "     0     0 187319.000    0  154 439686.778 187319.000  57.4%     -   11s\n",
      "     0     0 187319.002    0  154 439686.778 187319.002  57.4%     -   11s\n",
      "     0     0 187319.015    0  147 439686.778 187319.015  57.4%     -   12s\n",
      "H    0     0                    436963.06888 187319.015  57.1%     -   13s\n",
      "     0     0 187319.065    0  147 436963.069 187319.065  57.1%     -   13s\n",
      "     0     0 187319.141    0  147 436963.069 187319.141  57.1%     -   13s\n",
      "     0     0 187319.141    0  147 436963.069 187319.141  57.1%     -   13s\n",
      "     0     0 187319.141    0  145 436963.069 187319.141  57.1%     -   14s\n",
      "     0     2 187319.141    0  145 436963.069 187319.141  57.1%     -   16s\n",
      "    15    24 187867.668    4  133 436963.069 187493.949  57.1%   323   20s\n",
      "H   32    40                    435545.91823 187523.012  56.9%   318   23s\n",
      "H   38    40                    432729.98383 187523.012  56.7%   320   23s\n",
      "    47    56 189872.087    6  147 432729.984 187598.530  56.6%   332   25s\n",
      "    83    93 188185.847    9  129 432729.984 187690.463  56.6%   263   30s\n",
      "   124   138 190965.221   13  113 432729.984 187690.463  56.6%   222   35s\n",
      "   198   210 189332.695   18  128 432729.984 187690.463  56.6%   211   41s\n",
      "   231   244 189419.624   20  124 432729.984 187690.463  56.6%   205   46s\n",
      "H  236   244                    247117.34162 187690.463  24.0%   202   46s\n",
      "H  275   283                    191884.12853 187690.463  2.19%   183   65s\n",
      "   420   378 190200.279   33   87 191884.129 187690.463  2.19%   158   70s\n",
      "   641   476 190512.624   54   89 191884.129 187690.463  2.19%   132   75s\n",
      "  1021   590 191590.350  110   63 191884.129 188260.624  1.89%   103   81s\n",
      "H 1107   606                    191884.12772 188260.624  1.89%   102   85s\n",
      "  1439   813     cutoff   89      191884.128 189243.849  1.38%  96.9   91s\n",
      "H 1551   811                    191863.98167 189265.463  1.35%  95.0  102s\n",
      "  1552   812 189589.207   25  145 191863.982 189265.463  1.35%  94.9  106s\n",
      "  1554   813 190065.554   32  134 191863.982 189265.463  1.35%  94.8  110s\n",
      "  1564   823 189265.463   13  145 191863.982 189265.463  1.35%   102  115s\n",
      "  1601   844 190235.017   18  125 191863.982 189265.463  1.35%   104  120s\n",
      "  1658   842     cutoff   21      191863.982 189265.463  1.35%   107  125s\n",
      "  1716   834     cutoff   28      191863.982 189265.463  1.35%   108  130s\n",
      "  1784   833 189265.463   20  151 191863.982 189265.463  1.35%   110  135s\n",
      "H 1810   788                    191863.30240 189265.463  1.35%   110  146s\n",
      "  1866   798 189919.060   30  104 191863.302 189265.463  1.35%   110  151s\n",
      "  2045   904 190751.235   58   55 191863.302 189265.463  1.35%   108  155s\n",
      "  2449   971 190046.331   23  135 191863.302 189265.463  1.35%   100  160s\n",
      "  2727   910 189265.463   21  126 191863.302 189265.463  1.35%  99.3  165s\n",
      "  2899   924     cutoff   24      191863.302 189265.463  1.35%   100  170s\n",
      "  3292  1007 190536.683   42  107 191863.302 189265.463  1.35%  98.9  175s\n",
      "  3882  1255 190993.696   75   75 191863.302 189265.463  1.35%  90.4  181s\n",
      "  4244  1466 189766.189   40  114 191863.302 189460.765  1.25%  87.2  185s\n",
      "  4871  1863 190869.740   48   71 191863.302 189747.669  1.10%  83.7  191s\n",
      "  5346  2219 190105.567   47   95 191863.302 189854.708  1.05%  81.6  195s\n",
      "  5887  2606 190945.529   93   56 191863.302 189854.708  1.05%  78.7  200s\n",
      "\n",
      "Cutting planes:\n",
      "  Gomory: 11\n",
      "  MIR: 21\n",
      "  Flow cover: 15\n",
      "\n",
      "Explored 6468 nodes (506524 simplex iterations) in 202.80 seconds (208.89 work units)\n",
      "Thread count was 16 (of 16 available processors)\n",
      "\n",
      "Solution count 10: 191863 191864 191884 ... 443273\n",
      "\n",
      "Optimal solution found (tolerance 1.00e-02)\n",
      "Best objective 1.918633024017e+05, best bound 1.900635206636e+05, gap 0.9381%\n",
      "-------------------------------------------------------------------------------\n",
      "                                    Summary                                    \n",
      "-------------------------------------------------------------------------------\n",
      "(CVXPY) May 10 02:09:33 PM: Problem status: optimal\n"
     ]
    },
    {
     "name": "stdout",
     "output_type": "stream",
     "text": [
      "(CVXPY) May 10 02:09:33 PM: Optimal value: 1.919e+05\n",
      "(CVXPY) May 10 02:09:33 PM: Compilation took 7.195e+00 seconds\n",
      "(CVXPY) May 10 02:09:33 PM: Solver (including time spent in interface) took 2.038e+02 seconds\n"
     ]
    }
   ],
   "source": [
    "constraints = power_flow_constraints + flow_limits + generator_limits + commitment_constraints + reserve_constraints + ramp_limits_startup + ramp_limits_shutdown + min_up_time_constraints + min_down_time_constraints\n",
    "\n",
    "prob = cp.Problem(obj, constraints)\n",
    "res = prob.solve(solver = cp.GUROBI,reoptimize=True,verbose=True,MIPgap = 0.01)"
   ]
  },
  {
   "cell_type": "code",
   "execution_count": 46,
   "id": "a303094f",
   "metadata": {},
   "outputs": [],
   "source": [
    "# demand: P1\n",
    "# reverse: r\n",
    "# generation: p\n",
    "# injection and reserve combined: p + r\n",
    "\n",
    "dict_day1 = {}\n",
    "agg_p = []\n",
    "agg_d = []\n",
    "agg_r = []\n",
    "agg_idx = []\n",
    "agg_pr = []\n",
    "pr = (p + r).value\n",
    "for i in range(24):\n",
    "    agg_p.append(np.sum(np.array(p[:, i].value)))\n",
    "    agg_d.append(np.sum(P1[:, i]))\n",
    "    agg_r.append(np.sum(np.array(r[:, i].value)))\n",
    "    agg_idx.append(np.argmax(pr[:, i]) + 1)\n",
    "    agg_pr.append(np.max(pr[:, i]) * 100)\n",
    "dict_day1['aggregated generation'] = agg_p\n",
    "dict_day1['aggregated demand'] = agg_d\n",
    "dict_day1['aggregated reserve'] = agg_r\n",
    "dict_day1['combined injection and reserve max index'] = agg_idx\n",
    "dict_day1['combined injection and reserve max value (MW)'] = agg_pr"
   ]
  },
  {
   "cell_type": "code",
   "execution_count": 47,
   "id": "028323e9",
   "metadata": {},
   "outputs": [],
   "source": [
    "table_day1 = pd.DataFrame.from_dict(dict_day1)"
   ]
  },
  {
   "cell_type": "code",
   "execution_count": 48,
   "id": "769828b7",
   "metadata": {},
   "outputs": [
    {
     "data": {
      "text/html": [
       "<div>\n",
       "<style scoped>\n",
       "    .dataframe tbody tr th:only-of-type {\n",
       "        vertical-align: middle;\n",
       "    }\n",
       "\n",
       "    .dataframe tbody tr th {\n",
       "        vertical-align: top;\n",
       "    }\n",
       "\n",
       "    .dataframe thead th {\n",
       "        text-align: right;\n",
       "    }\n",
       "</style>\n",
       "<table border=\"1\" class=\"dataframe\">\n",
       "  <thead>\n",
       "    <tr style=\"text-align: right;\">\n",
       "      <th></th>\n",
       "      <th>aggregated generation</th>\n",
       "      <th>aggregated demand</th>\n",
       "      <th>aggregated reserve</th>\n",
       "      <th>combined injection and reserve max index</th>\n",
       "      <th>combined injection and reserve max value (MW)</th>\n",
       "    </tr>\n",
       "  </thead>\n",
       "  <tbody>\n",
       "    <tr>\n",
       "      <th>0</th>\n",
       "      <td>28.0178</td>\n",
       "      <td>28.0178</td>\n",
       "      <td>4.0</td>\n",
       "      <td>7</td>\n",
       "      <td>400.0</td>\n",
       "    </tr>\n",
       "    <tr>\n",
       "      <th>1</th>\n",
       "      <td>26.6621</td>\n",
       "      <td>26.6621</td>\n",
       "      <td>4.0</td>\n",
       "      <td>7</td>\n",
       "      <td>400.0</td>\n",
       "    </tr>\n",
       "    <tr>\n",
       "      <th>2</th>\n",
       "      <td>25.3064</td>\n",
       "      <td>25.3064</td>\n",
       "      <td>4.0</td>\n",
       "      <td>7</td>\n",
       "      <td>400.0</td>\n",
       "    </tr>\n",
       "    <tr>\n",
       "      <th>3</th>\n",
       "      <td>24.8545</td>\n",
       "      <td>24.8545</td>\n",
       "      <td>4.0</td>\n",
       "      <td>7</td>\n",
       "      <td>400.0</td>\n",
       "    </tr>\n",
       "    <tr>\n",
       "      <th>4</th>\n",
       "      <td>24.8545</td>\n",
       "      <td>24.8545</td>\n",
       "      <td>4.0</td>\n",
       "      <td>7</td>\n",
       "      <td>400.0</td>\n",
       "    </tr>\n",
       "    <tr>\n",
       "      <th>5</th>\n",
       "      <td>25.3064</td>\n",
       "      <td>25.3064</td>\n",
       "      <td>4.0</td>\n",
       "      <td>7</td>\n",
       "      <td>400.0</td>\n",
       "    </tr>\n",
       "    <tr>\n",
       "      <th>6</th>\n",
       "      <td>31.1811</td>\n",
       "      <td>31.1811</td>\n",
       "      <td>4.0</td>\n",
       "      <td>7</td>\n",
       "      <td>400.0</td>\n",
       "    </tr>\n",
       "    <tr>\n",
       "      <th>7</th>\n",
       "      <td>36.1520</td>\n",
       "      <td>36.1520</td>\n",
       "      <td>4.0</td>\n",
       "      <td>7</td>\n",
       "      <td>400.0</td>\n",
       "    </tr>\n",
       "    <tr>\n",
       "      <th>8</th>\n",
       "      <td>40.2191</td>\n",
       "      <td>40.2191</td>\n",
       "      <td>4.0</td>\n",
       "      <td>7</td>\n",
       "      <td>400.0</td>\n",
       "    </tr>\n",
       "    <tr>\n",
       "      <th>9</th>\n",
       "      <td>40.6710</td>\n",
       "      <td>40.6710</td>\n",
       "      <td>4.0</td>\n",
       "      <td>7</td>\n",
       "      <td>400.0</td>\n",
       "    </tr>\n",
       "    <tr>\n",
       "      <th>10</th>\n",
       "      <td>40.6710</td>\n",
       "      <td>40.6710</td>\n",
       "      <td>4.0</td>\n",
       "      <td>7</td>\n",
       "      <td>400.0</td>\n",
       "    </tr>\n",
       "    <tr>\n",
       "      <th>11</th>\n",
       "      <td>40.2191</td>\n",
       "      <td>40.2191</td>\n",
       "      <td>4.0</td>\n",
       "      <td>7</td>\n",
       "      <td>400.0</td>\n",
       "    </tr>\n",
       "    <tr>\n",
       "      <th>12</th>\n",
       "      <td>40.2191</td>\n",
       "      <td>40.2191</td>\n",
       "      <td>4.0</td>\n",
       "      <td>7</td>\n",
       "      <td>400.0</td>\n",
       "    </tr>\n",
       "    <tr>\n",
       "      <th>13</th>\n",
       "      <td>40.2191</td>\n",
       "      <td>40.2191</td>\n",
       "      <td>4.0</td>\n",
       "      <td>7</td>\n",
       "      <td>400.0</td>\n",
       "    </tr>\n",
       "    <tr>\n",
       "      <th>14</th>\n",
       "      <td>39.3153</td>\n",
       "      <td>39.3153</td>\n",
       "      <td>4.0</td>\n",
       "      <td>7</td>\n",
       "      <td>400.0</td>\n",
       "    </tr>\n",
       "    <tr>\n",
       "      <th>15</th>\n",
       "      <td>39.7672</td>\n",
       "      <td>39.7672</td>\n",
       "      <td>4.0</td>\n",
       "      <td>7</td>\n",
       "      <td>400.0</td>\n",
       "    </tr>\n",
       "    <tr>\n",
       "      <th>16</th>\n",
       "      <td>41.5748</td>\n",
       "      <td>41.5748</td>\n",
       "      <td>4.0</td>\n",
       "      <td>7</td>\n",
       "      <td>400.0</td>\n",
       "    </tr>\n",
       "    <tr>\n",
       "      <th>17</th>\n",
       "      <td>42.0267</td>\n",
       "      <td>42.0267</td>\n",
       "      <td>4.0</td>\n",
       "      <td>7</td>\n",
       "      <td>400.0</td>\n",
       "    </tr>\n",
       "    <tr>\n",
       "      <th>18</th>\n",
       "      <td>42.0267</td>\n",
       "      <td>42.0267</td>\n",
       "      <td>4.0</td>\n",
       "      <td>7</td>\n",
       "      <td>400.0</td>\n",
       "    </tr>\n",
       "    <tr>\n",
       "      <th>19</th>\n",
       "      <td>40.6710</td>\n",
       "      <td>40.6710</td>\n",
       "      <td>4.0</td>\n",
       "      <td>7</td>\n",
       "      <td>400.0</td>\n",
       "    </tr>\n",
       "    <tr>\n",
       "      <th>20</th>\n",
       "      <td>38.4115</td>\n",
       "      <td>38.4115</td>\n",
       "      <td>4.0</td>\n",
       "      <td>7</td>\n",
       "      <td>400.0</td>\n",
       "    </tr>\n",
       "    <tr>\n",
       "      <th>21</th>\n",
       "      <td>34.7963</td>\n",
       "      <td>34.7963</td>\n",
       "      <td>4.0</td>\n",
       "      <td>32</td>\n",
       "      <td>400.0</td>\n",
       "    </tr>\n",
       "    <tr>\n",
       "      <th>22</th>\n",
       "      <td>30.7292</td>\n",
       "      <td>30.7292</td>\n",
       "      <td>4.0</td>\n",
       "      <td>32</td>\n",
       "      <td>400.0</td>\n",
       "    </tr>\n",
       "    <tr>\n",
       "      <th>23</th>\n",
       "      <td>26.6621</td>\n",
       "      <td>26.6621</td>\n",
       "      <td>4.0</td>\n",
       "      <td>32</td>\n",
       "      <td>400.0</td>\n",
       "    </tr>\n",
       "  </tbody>\n",
       "</table>\n",
       "</div>"
      ],
      "text/plain": [
       "    aggregated generation  aggregated demand  aggregated reserve  \\\n",
       "0                 28.0178            28.0178                 4.0   \n",
       "1                 26.6621            26.6621                 4.0   \n",
       "2                 25.3064            25.3064                 4.0   \n",
       "3                 24.8545            24.8545                 4.0   \n",
       "4                 24.8545            24.8545                 4.0   \n",
       "5                 25.3064            25.3064                 4.0   \n",
       "6                 31.1811            31.1811                 4.0   \n",
       "7                 36.1520            36.1520                 4.0   \n",
       "8                 40.2191            40.2191                 4.0   \n",
       "9                 40.6710            40.6710                 4.0   \n",
       "10                40.6710            40.6710                 4.0   \n",
       "11                40.2191            40.2191                 4.0   \n",
       "12                40.2191            40.2191                 4.0   \n",
       "13                40.2191            40.2191                 4.0   \n",
       "14                39.3153            39.3153                 4.0   \n",
       "15                39.7672            39.7672                 4.0   \n",
       "16                41.5748            41.5748                 4.0   \n",
       "17                42.0267            42.0267                 4.0   \n",
       "18                42.0267            42.0267                 4.0   \n",
       "19                40.6710            40.6710                 4.0   \n",
       "20                38.4115            38.4115                 4.0   \n",
       "21                34.7963            34.7963                 4.0   \n",
       "22                30.7292            30.7292                 4.0   \n",
       "23                26.6621            26.6621                 4.0   \n",
       "\n",
       "    combined injection and reserve max index  \\\n",
       "0                                          7   \n",
       "1                                          7   \n",
       "2                                          7   \n",
       "3                                          7   \n",
       "4                                          7   \n",
       "5                                          7   \n",
       "6                                          7   \n",
       "7                                          7   \n",
       "8                                          7   \n",
       "9                                          7   \n",
       "10                                         7   \n",
       "11                                         7   \n",
       "12                                         7   \n",
       "13                                         7   \n",
       "14                                         7   \n",
       "15                                         7   \n",
       "16                                         7   \n",
       "17                                         7   \n",
       "18                                         7   \n",
       "19                                         7   \n",
       "20                                         7   \n",
       "21                                        32   \n",
       "22                                        32   \n",
       "23                                        32   \n",
       "\n",
       "    combined injection and reserve max value (MW)  \n",
       "0                                           400.0  \n",
       "1                                           400.0  \n",
       "2                                           400.0  \n",
       "3                                           400.0  \n",
       "4                                           400.0  \n",
       "5                                           400.0  \n",
       "6                                           400.0  \n",
       "7                                           400.0  \n",
       "8                                           400.0  \n",
       "9                                           400.0  \n",
       "10                                          400.0  \n",
       "11                                          400.0  \n",
       "12                                          400.0  \n",
       "13                                          400.0  \n",
       "14                                          400.0  \n",
       "15                                          400.0  \n",
       "16                                          400.0  \n",
       "17                                          400.0  \n",
       "18                                          400.0  \n",
       "19                                          400.0  \n",
       "20                                          400.0  \n",
       "21                                          400.0  \n",
       "22                                          400.0  \n",
       "23                                          400.0  "
      ]
     },
     "metadata": {},
     "output_type": "display_data"
    }
   ],
   "source": [
    "table_day1 = pd.DataFrame.from_dict(dict_day1)\n",
    "display(table_day1)"
   ]
  },
  {
   "cell_type": "code",
   "execution_count": 29,
   "id": "6283d478",
   "metadata": {},
   "outputs": [
    {
     "data": {
      "text/plain": [
       "<matplotlib.image.AxesImage at 0x2352d80cbe0>"
      ]
     },
     "execution_count": 29,
     "metadata": {},
     "output_type": "execute_result"
    },
    {
     "data": {
      "image/png": "[encoded data removed]",
      "text/plain": [
       "<Figure size 640x480 with 1 Axes>"
      ]
     },
     "metadata": {},
     "output_type": "display_data"
    }
   ],
   "source": [
    "# plot u, v, w\n",
    "plt.imshow(u.value)"
   ]
  },
  {
   "cell_type": "code",
   "execution_count": 30,
   "id": "5ff45b82",
   "metadata": {},
   "outputs": [
    {
     "data": {
      "text/plain": [
       "<matplotlib.image.AxesImage at 0x2352db17700>"
      ]
     },
     "execution_count": 30,
     "metadata": {},
     "output_type": "execute_result"
    },
    {
     "data": {
      "image/png": "[encoded data removed]",
      "text/plain": [
       "<Figure size 640x480 with 1 Axes>"
      ]
     },
     "metadata": {},
     "output_type": "display_data"
    }
   ],
   "source": [
    "plt.imshow(v.value)"
   ]
  },
  {
   "cell_type": "code",
   "execution_count": 31,
   "id": "1733c932",
   "metadata": {},
   "outputs": [
    {
     "data": {
      "text/plain": [
       "<matplotlib.image.AxesImage at 0x2352d87b280>"
      ]
     },
     "execution_count": 31,
     "metadata": {},
     "output_type": "execute_result"
    },
    {
     "data": {
      "image/png": "[encoded data removed]",
      "text/plain": [
       "<Figure size 640x480 with 1 Axes>"
      ]
     },
     "metadata": {},
     "output_type": "display_data"
    }
   ],
   "source": [
    "plt.imshow(w.value)"
   ]
  },
  {
   "cell_type": "code",
   "execution_count": 59,
   "id": "c3d0c89d",
   "metadata": {},
   "outputs": [
    {
     "data": {
      "image/png": "[encoded data removed]",
      "text/plain": [
       "<Figure size 640x480 with 1 Axes>"
      ]
     },
     "metadata": {},
     "output_type": "display_data"
    }
   ],
   "source": [
    "# reserve margin\n",
    "# print(p_max.shape)\n",
    "max_capacity = np.sum(p_max)\n",
    "max_capacities = np.full((24,), max_capacity)\n",
    "# print(max_capacity)\n",
    "# print(agg_p)\n",
    "reserve_margin = max_capacity - agg_p\n",
    "plt.plot(hours, max_capacities, label=\"max capacity\")\n",
    "plt.plot(hours, agg_p, label=\"total demand\")\n",
    "plt.plot(hours, reserve_margin, label=\"reserve margin\")\n",
    "plt.xlabel(\"hours\")\n",
    "plt.ylabel(\"energy\")\n",
    "plt.legend()\n",
    "plt.show()"
   ]
  },
  {
   "cell_type": "code",
   "execution_count": 61,
   "id": "0fd2cd5a",
   "metadata": {},
   "outputs": [
    {
     "data": {
      "image/png": "[encoded data removed]",
      "text/plain": [
       "<Figure size 640x480 with 1 Axes>"
      ]
     },
     "metadata": {},
     "output_type": "display_data"
    }
   ],
   "source": [
    "reserve_margin_new = max_capacity - np.array(agg_p) * 1.5\n",
    "plt.plot(hours, max_capacities, label=\"max capacity\")\n",
    "plt.plot(hours, np.array(agg_p) * 1.5, label=\"increased total demand\")\n",
    "plt.plot(hours, reserve_margin_new, label=\"reduced reserve margin\")\n",
    "plt.xlabel(\"hours\")\n",
    "plt.ylabel(\"energy\")\n",
    "plt.legend()\n",
    "plt.show()"
   ]
  },
  {
   "cell_type": "code",
   "execution_count": null,
   "id": "f6b7aea5",
   "metadata": {},
   "outputs": [],
   "source": []
  }
 ],
 "metadata": {
  "kernelspec": {
   "display_name": "Python 3 (ipykernel)",
   "language": "python",
   "name": "python3"
  },
  "language_info": {
   "codemirror_mode": {
    "name": "ipython",
    "version": 3
   },
   "file_extension": ".py",
   "mimetype": "text/x-python",
   "name": "python",
   "nbconvert_exporter": "python",
   "pygments_lexer": "ipython3",
   "version": "3.9.1"
  }
 },
 "nbformat": 4,
 "nbformat_minor": 5
}
