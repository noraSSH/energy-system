{
 "cells": [
  {
   "cell_type": "code",
   "execution_count": 108,
   "id": "9f1d57f5-7ec9-488f-b430-9f30327efaea",
   "metadata": {},
   "outputs": [],
   "source": [
    "import networkx as nx\n",
    "\n",
    "# visualization packages - https://matplotlib.org/ \n",
    "import matplotlib.pyplot as plt\n",
    "import pandas as pd\n",
    "import math\n",
    "import cvxpy as cp\n",
    "import numpy as np"
   ]
  },
  {
   "cell_type": "code",
   "execution_count": 109,
   "id": "dd2218b4-20ac-4e0c-bee5-ae7b311da16e",
   "metadata": {},
   "outputs": [
    {
     "name": "stdout",
     "output_type": "stream",
     "text": [
      "===============================================================================\n",
      "                                     CVXPY                                     \n",
      "                                     v1.2.2                                    \n",
      "===============================================================================\n",
      "(CVXPY) May 09 06:09:14 PM: Your problem has 25 variables, 0 constraints, and 0 parameters.\n",
      "(CVXPY) May 09 06:09:14 PM: It is compliant with the following grammars: DCP, DQCP\n",
      "(CVXPY) May 09 06:09:14 PM: (If you need to solve this problem multiple times, but with different data, consider using parameters.)\n",
      "(CVXPY) May 09 06:09:14 PM: CVXPY will first compile your problem; then, it will invoke a numerical solver to obtain a solution.\n",
      "-------------------------------------------------------------------------------\n",
      "                                  Compilation                                  \n",
      "-------------------------------------------------------------------------------\n",
      "(CVXPY) May 09 06:09:14 PM: Compiling problem (target solver=GUROBI).\n",
      "(CVXPY) May 09 06:09:14 PM: Reduction chain: CvxAttr2Constr -> Qp2SymbolicQp -> QpMatrixStuffing -> GUROBI\n",
      "(CVXPY) May 09 06:09:14 PM: Applying reduction CvxAttr2Constr\n",
      "(CVXPY) May 09 06:09:14 PM: Applying reduction Qp2SymbolicQp\n",
      "(CVXPY) May 09 06:09:14 PM: Applying reduction QpMatrixStuffing\n",
      "(CVXPY) May 09 06:09:14 PM: Applying reduction GUROBI\n",
      "(CVXPY) May 09 06:09:14 PM: Finished problem compilation (took 1.059e-02 seconds).\n",
      "-------------------------------------------------------------------------------\n",
      "                                Numerical solver                               \n",
      "-------------------------------------------------------------------------------\n",
      "(CVXPY) May 09 06:09:14 PM: Invoking solver GUROBI  to obtain a solution.\n",
      "Set parameter QCPDual to value 1\n",
      "Gurobi Optimizer version 10.0.1 build v10.0.1rc0 (mac64[arm])\n",
      "\n",
      "CPU model: Apple M1 Pro\n",
      "Thread count: 10 physical cores, 10 logical processors, using up to 10 threads\n",
      "\n",
      "Optimize a model with 40 rows, 65 columns and 1040 nonzeros\n",
      "Model fingerprint: 0x68de632a\n",
      "Model has 40 quadratic objective terms\n",
      "Variable types: 40 continuous, 25 integer (0 binary)\n",
      "Coefficient statistics:\n",
      "  Matrix range     [8e-05, 1e+00]\n",
      "  Objective range  [0e+00, 0e+00]\n",
      "  QObjective range [2e+00, 2e+00]\n",
      "  Bounds range     [0e+00, 0e+00]\n",
      "  RHS range        [1e-02, 2e+00]\n",
      "Found heuristic solution: objective 47.2619986\n",
      "Presolve time: 0.00s\n",
      "Presolved: 40 rows, 65 columns, 1040 nonzeros\n",
      "Presolved model has 40 quadratic objective terms\n",
      "Variable types: 40 continuous, 25 integer (0 binary)\n",
      "\n",
      "Root relaxation: objective 1.826869e+01, 66 iterations, 0.00 seconds (0.00 work units)\n",
      "\n",
      "    Nodes    |    Current Node    |     Objective Bounds      |     Work\n",
      " Expl Unexpl |  Obj  Depth IntInf | Incumbent    BestBd   Gap | It/Node Time\n",
      "\n",
      "     0     0   18.26869    0   25   47.26200   18.26869  61.3%     -    0s\n",
      "H    0     0                      37.9206157   18.26869  51.8%     -    0s\n",
      "H    0     0                      36.7682211   18.26869  50.3%     -    0s\n",
      "H    0     0                      29.2305924   18.26869  37.5%     -    0s\n",
      "H    0     0                      28.8617362   18.26869  36.7%     -    0s\n",
      "H    0     0                      28.0182783   18.26869  34.8%     -    0s\n",
      "H    0     0                      24.4289042   18.26869  25.2%     -    0s\n",
      "     0     0   19.30191    0   25   24.42890   19.30191  21.0%     -    0s\n",
      "     0     2   19.30191    0   25   24.42890   19.30191  21.0%     -    0s\n",
      "H    8    16                      24.2986279   19.57574  19.4%   1.8    0s\n",
      "H   14    16                      23.9394131   19.98921  16.5%   1.9    0s\n",
      "H  145   133                      23.2119414   20.47304  11.8%   2.2    0s\n",
      "H  555   203                      23.0724494   21.39047  7.29%   2.2    0s\n",
      "\n",
      "Explored 1358 nodes (3010 simplex iterations) in 0.09 seconds (0.07 work units)\n",
      "Thread count was 10 (of 10 available processors)\n",
      "\n",
      "Solution count 10: 23.0724 23.2119 23.9394 ... 37.9206\n",
      "\n",
      "Optimal solution found (tolerance 1.00e-04)\n",
      "Best objective 2.307244943602e+01, best bound 2.307244943602e+01, gap 0.0000%\n",
      "-------------------------------------------------------------------------------\n",
      "                                    Summary                                    \n",
      "-------------------------------------------------------------------------------\n",
      "(CVXPY) May 09 06:09:14 PM: Problem status: optimal\n",
      "(CVXPY) May 09 06:09:14 PM: Optimal value: 2.307e+01\n",
      "(CVXPY) May 09 06:09:14 PM: Compilation took 1.059e-02 seconds\n",
      "(CVXPY) May 09 06:09:14 PM: Solver (including time spent in interface) took 9.826e-02 seconds\n"
     ]
    },
    {
     "data": {
      "text/plain": [
       "23.072449436019248"
      ]
     },
     "execution_count": 109,
     "metadata": {},
     "output_type": "execute_result"
    }
   ],
   "source": [
    "# Generate a random problem np.random.seed(0)\n",
    "m, n= 40, 25\n",
    "A = np.random.rand(m, n)\n",
    "b = np.random.randn(m)\n",
    "# Construct a CVXPY problem\n",
    "x = cp.Variable(n, integer=True)\n",
    "objective = cp.Minimize(cp.sum_squares(A @ x - b)) \n",
    "prob = cp.Problem(objective)\n",
    "prob.solve(solver = cp.GUROBI ,verbose = True)"
   ]
  },
  {
   "cell_type": "code",
   "execution_count": 110,
   "id": "4be9a328-6fcd-47da-94ea-6ed5a09203a5",
   "metadata": {},
   "outputs": [],
   "source": [
    "branch_df = pd.read_csv(\"Branch.csv\").dropna()\n",
    "bus_df = pd.read_csv(\"Bus.csv\").dropna()\n",
    "generator_df = pd.read_csv(\"Generation.csv\").dropna()\n",
    "load_df = pd.read_csv(\"Load.csv\").dropna().set_index('Hour')"
   ]
  },
  {
   "cell_type": "code",
   "execution_count": 111,
   "id": "0d72f060-5c64-4a9e-b1e8-aea80a2942c9",
   "metadata": {},
   "outputs": [
    {
     "name": "stdout",
     "output_type": "stream",
     "text": [
      "Index(['branch_number', 'from_bus', 'to_bus', 'LineR', 'LineX',\n",
      "       'B(susceptance)', 'rateA', 'rateC'],\n",
      "      dtype='object')\n",
      "Index(['Unnamed: 0', 'BusNumber', 'Pload', 'Qload'], dtype='object')\n",
      "Index(['GenNumber', 'Bus', 'Pmax', 'Pmin', 'LinearCost', 'StartupCost',\n",
      "       'ShutdownCost', 'NoLoadCost', 'ReserveCost', 'minDOWN', 'minUP',\n",
      "       'HourlyRamp', 'Startup/ShutdownRamp'],\n",
      "      dtype='object')\n",
      "      Day1  Day2  Day3  Day4  Day5\n",
      "Hour                              \n",
      "1       62    67    61    55    61\n"
     ]
    }
   ],
   "source": [
    "print(branch_df.columns)\n",
    "print(bus_df.columns)\n",
    "print(generator_df.columns)\n",
    "print(load_df.loc[[1]])"
   ]
  },
  {
   "cell_type": "code",
   "execution_count": 139,
   "id": "8622f668-beb1-4edd-abe7-cf77ba83d52f",
   "metadata": {},
   "outputs": [],
   "source": [
    "N = bus_df.shape[0]\n",
    "E = branch_df.shape[0]\n",
    "Ng = generator_df.shape[0]\n",
    "\n",
    "cl = np.array(generator_df.LinearCost).reshape((-1,1))\n",
    "cnl = np.array(generator_df.NoLoadCost).reshape((-1,1))\n",
    "csu = np.array(generator_df.StartupCost).reshape((-1,1))\n",
    "csd = np.array(generator_df.ShutdownCost).reshape((-1,1))\n",
    "cr = np.array(generator_df.ReserveCost).reshape((-1,1))\n",
    "\n",
    "Pl = np.array(branch_df.rateA/100.0).reshape((-1,1))\n",
    "b = branch_df[\"B(susceptance)\"]/100.0\n",
    "\n",
    "bus_mappings = {bus: bus-1 for bus in bus_df.BusNumber}\n",
    "M = np.zeros((N,E))\n",
    "for idx,(fbus, tbus) in enumerate(zip(branch_df.from_bus,branch_df.to_bus)): \n",
    "    M[bus_mappings[fbus],idx] = 1 \n",
    "    M[bus_mappings[tbus],idx] = -1\n",
    "    \n",
    "pg_min = np.array(generator_df.Pmin/100.0).reshape((-1,1))\n",
    "pg_max = np.array(generator_df.Pmax/100.0).reshape((-1,1))\n",
    "\n",
    "Eg = np.zeros((N,Ng))\n",
    "for ngi in range(Ng): \n",
    "    Eg[generator_df.Bus[ngi]-1,ngi] = 1\n",
    "    \n",
    "B = M@np.diag(b)@M.T\n",
    "\n",
    "rhr = np.array(generator_df.HourlyRamp).reshape((-1,1))\n",
    "rsu = np.array(generator_df[\"Startup/ShutdownRamp\"]).reshape((-1,1))\n",
    "rsd = rsu\n",
    "\n",
    "Ti_on = np.array(generator_df.minUP).reshape((-1,1))\n",
    "Ti_off = np.array(generator_df.minDOWN).reshape((-1,1))"
   ]
  },
  {
   "cell_type": "code",
   "execution_count": 140,
   "id": "20c5400b-d38a-4134-9246-7ae63ae5d7c4",
   "metadata": {},
   "outputs": [
    {
     "name": "stdout",
     "output_type": "stream",
     "text": [
      "(5, 24, 118)\n"
     ]
    }
   ],
   "source": [
    "Pd = np.zeros((5,24,N))\n",
    "for day in range(1,6):\n",
    "    for hour in range(1,25):\n",
    "        for bus in range(len(bus_df.Pload)):\n",
    "            Pd[day-1, hour-1, bus] = load_df.loc[[hour]][\"Day\"+str(day)]/100.0 * bus_df.Pload.iloc[bus]/100.0\n",
    "            \n",
    "print(Pd.shape)"
   ]
  },
  {
   "cell_type": "code",
   "execution_count": 141,
   "id": "b9194986-a679-4bae-89df-f97cd8c0da9d",
   "metadata": {},
   "outputs": [
    {
     "name": "stdout",
     "output_type": "stream",
     "text": [
      "(24, 118)\n"
     ]
    }
   ],
   "source": [
    "Pd_sum = Pd.sum(axis=2)\n",
    "print(Pd[0].shape)"
   ]
  },
  {
   "cell_type": "code",
   "execution_count": 142,
   "id": "a7bfd5d3-a39a-42ea-b159-b96fbdb85eba",
   "metadata": {},
   "outputs": [
    {
     "data": {
      "text/plain": [
       "<matplotlib.legend.Legend at 0x2a91cf5e0>"
      ]
     },
     "execution_count": 142,
     "metadata": {},
     "output_type": "execute_result"
    },
    {
     "data": {
      "image/png": "[encoded data removed]",
      "text/plain": [
       "<Figure size 640x480 with 1 Axes>"
      ]
     },
     "metadata": {},
     "output_type": "display_data"
    }
   ],
   "source": [
    "demands = plt.plot(range(1,25),Pd_sum.T)\n",
    "plt.xlabel(\"hours\")\n",
    "plt.ylabel(\"loads\")\n",
    "plt.legend(iter(demands), (\"Day\"+str(i) for i in range(1,6)))"
   ]
  },
  {
   "cell_type": "code",
   "execution_count": 143,
   "id": "d73fdfa2-2fd5-4d5b-ac64-c0fbc612942e",
   "metadata": {},
   "outputs": [
    {
     "name": "stdout",
     "output_type": "stream",
     "text": [
      "(118, 186)\n",
      "(186, 1)\n",
      "[ 180  240  180  180  180   60    0  420   60  420  180  180  180  420\n",
      "  180  180  180  180  180 3000 3000 3000 3000 3000 3000 3000 3000 3000\n",
      " 3000   60  120    0  180  180    0  120  120  120  120  120  180   60\n",
      "   60   60   60  180  180  180  420  240  180   60  180  420]\n"
     ]
    }
   ],
   "source": [
    "print(M.shape)\n",
    "print(Pl.shape)\n",
    "print(rhr.T[0])"
   ]
  },
  {
   "cell_type": "code",
   "execution_count": 144,
   "id": "96242c75-d329-4c07-843a-efde29458b17",
   "metadata": {},
   "outputs": [
    {
     "name": "stdout",
     "output_type": "stream",
     "text": [
      "===============================================================================\n",
      "                                     CVXPY                                     \n",
      "                                     v1.2.2                                    \n",
      "===============================================================================\n",
      "(CVXPY) May 09 06:28:41 PM: Your problem has 9312 variables, 3464 constraints, and 0 parameters.\n",
      "(CVXPY) May 09 06:28:42 PM: It is compliant with the following grammars: DCP, DQCP\n",
      "(CVXPY) May 09 06:28:42 PM: (If you need to solve this problem multiple times, but with different data, consider using parameters.)\n",
      "(CVXPY) May 09 06:28:42 PM: CVXPY will first compile your problem; then, it will invoke a numerical solver to obtain a solution.\n",
      "-------------------------------------------------------------------------------\n",
      "                                  Compilation                                  \n",
      "-------------------------------------------------------------------------------\n",
      "(CVXPY) May 09 06:28:42 PM: Compiling problem (target solver=GUROBI).\n",
      "(CVXPY) May 09 06:28:42 PM: Reduction chain: CvxAttr2Constr -> Qp2SymbolicQp -> QpMatrixStuffing -> GUROBI\n",
      "(CVXPY) May 09 06:28:42 PM: Applying reduction CvxAttr2Constr\n",
      "(CVXPY) May 09 06:28:42 PM: Applying reduction Qp2SymbolicQp\n",
      "(CVXPY) May 09 06:28:42 PM: Applying reduction QpMatrixStuffing\n",
      "(CVXPY) May 09 06:28:44 PM: Applying reduction GUROBI\n",
      "(CVXPY) May 09 06:28:44 PM: Finished problem compilation (took 2.407e+00 seconds).\n",
      "-------------------------------------------------------------------------------\n",
      "                                Numerical solver                               \n",
      "-------------------------------------------------------------------------------\n",
      "(CVXPY) May 09 06:28:44 PM: Invoking solver GUROBI  to obtain a solution.\n",
      "Set parameter QCPDual to value 1\n",
      "No parameters matching 'reoptimize' found\n",
      "Set parameter MIPGap to value 0.01\n",
      "Gurobi Optimizer version 10.0.1 build v10.0.1rc0 (mac64[arm])\n",
      "\n",
      "CPU model: Apple M1 Pro\n",
      "Thread count: 10 physical cores, 10 logical processors, using up to 10 threads\n",
      "\n",
      "Optimize a model with 25277 rows, 9312 columns and 141775 nonzeros\n",
      "Model fingerprint: 0x3a7cb156\n",
      "Variable types: 5424 continuous, 3888 integer (3888 binary)\n",
      "Coefficient statistics:\n",
      "  Matrix range     [2e-02, 3e+03]\n",
      "  Objective range  [6e+00, 6e+03]\n",
      "  Bounds range     [1e+00, 1e+00]\n",
      "  RHS range        [1e-02, 1e+01]\n",
      "Presolve removed 6065 rows and 457 columns\n",
      "Presolve time: 0.32s\n",
      "Presolved: 19212 rows, 8855 columns, 129259 nonzeros\n",
      "Variable types: 5075 continuous, 3780 integer (3780 binary)\n",
      "Found heuristic solution: objective 443273.23188\n",
      "\n",
      "Root relaxation: objective 1.867241e+05, 11519 iterations, 1.23 seconds (3.25 work units)\n",
      "\n",
      "    Nodes    |    Current Node    |     Objective Bounds      |     Work\n",
      " Expl Unexpl |  Obj  Depth IntInf | Incumbent    BestBd   Gap | It/Node Time\n",
      "\n",
      "     0     0 186724.106    0  136 443273.232 186724.106  57.9%     -    2s\n",
      "H    0     0                    441942.83866 186724.106  57.7%     -    2s\n",
      "H    0     0                    440205.12742 187209.300  57.5%     -    2s\n",
      "     0     0 187209.300    0  161 440205.127 187209.300  57.5%     -    2s\n",
      "     0     0 187288.023    0  148 440205.127 187288.023  57.5%     -    2s\n",
      "     0     0 187288.381    0  155 440205.127 187288.381  57.5%     -    3s\n",
      "     0     0 187288.381    0  165 440205.127 187288.381  57.5%     -    3s\n",
      "     0     0 187288.381    0  156 440205.127 187288.381  57.5%     -    3s\n",
      "     0     0 187296.365    0  157 440205.127 187296.365  57.5%     -    3s\n",
      "     0     0 187297.939    0  157 440205.127 187297.939  57.5%     -    3s\n",
      "H    0     0                    439132.93815 187298.280  57.3%     -    3s\n",
      "     0     0 187298.280    0  172 439132.938 187298.280  57.3%     -    3s\n",
      "     0     0 187298.287    0  172 439132.938 187298.287  57.3%     -    3s\n",
      "     0     0 187301.211    0  179 439132.938 187301.211  57.3%     -    3s\n",
      "     0     0 187301.313    0  178 439132.938 187301.313  57.3%     -    3s\n",
      "     0     0 187301.313    0  178 439132.938 187301.313  57.3%     -    3s\n",
      "     0     0 187307.281    0  170 439132.938 187307.281  57.3%     -    4s\n",
      "H    0     0                    433288.14401 187307.281  56.8%     -    4s\n",
      "     0     0 187307.342    0  170 433288.144 187307.342  56.8%     -    4s\n",
      "H    0     0                    203158.75154 187307.342  7.80%     -    4s\n",
      "H    0     0                    203158.74566 187307.342  7.80%     -    4s\n",
      "     0     0 187311.040    0  164 203158.746 187311.040  7.80%     -    4s\n",
      "     0     0 187311.068    0  171 203158.746 187311.068  7.80%     -    4s\n",
      "     0     0 187311.420    0  178 203158.746 187311.420  7.80%     -    4s\n",
      "H    0     0                    202696.01125 187311.420  7.59%     -    4s\n",
      "     0     0 187311.420    0  178 202696.011 187311.420  7.59%     -    4s\n",
      "     0     0 187312.275    0  178 202696.011 187312.275  7.59%     -    4s\n",
      "     0     0 187312.275    0  178 202696.011 187312.275  7.59%     -    4s\n",
      "     0     0 187312.275    0  161 202696.011 187312.275  7.59%     -    5s\n",
      "     0     2 187312.275    0  161 202696.011 187312.275  7.59%     -    5s\n",
      "H   38    46                    202233.27685 187514.767  7.28%   280    7s\n",
      "    99   113 201295.644   10  106 202233.277 187621.273  7.23%   268   10s\n",
      "H  226   220                    192886.10768 187658.169  2.71%   179   18s\n",
      "H  229   220                    192238.67578 187658.169  2.38%   180   18s\n",
      "H  231   220                    192061.79687 187658.169  2.29%   180   18s\n",
      "H  234   220                    191768.13633 187658.169  2.14%   180   18s\n",
      "   317   253     cutoff   14      191768.136 187658.169  2.14%   159   22s\n",
      "H  320   253                    191768.13588 187658.169  2.14%   158   22s\n",
      "   899   553 189846.633   22  117 191768.136 188600.518  1.65%   110   25s\n",
      "H 1622   830                    191758.00917 188661.433  1.61%  85.9   31s\n",
      "  1627   834 189323.869   14  134 191758.009 188661.433  1.61%  85.6   35s\n",
      "  1822   835     cutoff   21      191758.009 188661.433  1.61%  98.5   40s\n",
      "  1927   845 189737.548   33   90 191758.009 188661.433  1.61%  98.6   45s\n",
      "H 1935   799                    191758.00823 188661.433  1.61%  98.9   45s\n",
      "  2838  1000 188793.410   18  129 191758.008 188661.433  1.61%  87.9   50s\n",
      "  4123  1322     cutoff   36      191758.008 189251.407  1.31%  80.0   55s\n",
      "\n",
      "Cutting planes:\n",
      "  Gomory: 15\n",
      "  MIR: 11\n",
      "  Flow cover: 19\n",
      "  RLT: 1\n",
      "\n",
      "Explored 5323 nodes (418985 simplex iterations) in 58.10 seconds (173.45 work units)\n",
      "Thread count was 10 (of 10 available processors)\n",
      "\n",
      "Solution count 10: 191758 191758 191768 ... 203159\n",
      "\n",
      "Optimal solution found (tolerance 1.00e-02)\n",
      "Best objective 1.917580092035e+05, best bound 1.898671731550e+05, gap 0.9861%\n",
      "-------------------------------------------------------------------------------\n",
      "                                    Summary                                    \n",
      "-------------------------------------------------------------------------------\n",
      "(CVXPY) May 09 06:29:42 PM: Problem status: optimal\n",
      "(CVXPY) May 09 06:29:42 PM: Optimal value: 1.918e+05\n",
      "(CVXPY) May 09 06:29:42 PM: Compilation took 2.407e+00 seconds\n",
      "(CVXPY) May 09 06:29:42 PM: Solver (including time spent in interface) took 5.834e+01 seconds\n"
     ]
    },
    {
     "data": {
      "text/plain": [
       "191758.00920345797"
      ]
     },
     "execution_count": 144,
     "metadata": {},
     "output_type": "execute_result"
    }
   ],
   "source": [
    "d1 = Pd[0].T\n",
    "\n",
    "T = 24\n",
    "\n",
    "p = cp.Variable((generator_df.shape[0],T))\n",
    "r = cp.Variable((generator_df.shape[0],T))\n",
    "theta = cp.Variable((N,T))\n",
    "u = cp.Variable((generator_df.shape[0],T),boolean = True) # Commitment variable\n",
    "v = cp.Variable((generator_df.shape[0],T),boolean = True) # Startup variable\n",
    "w = cp.Variable((generator_df.shape[0],T),boolean = True) # Shutdown variable\n",
    "\n",
    "obj = cp.Minimize(cp.sum(cl.T@p + csu.T@v + csd.T@w + cnl.T@u + cr.T@r))\n",
    "# obj = cp.Minimize(cp.sum(linear_cost.T@p))\n",
    "\n",
    "power_flow_constraints = [Eg@p - d1 == B@theta]\n",
    "flow_limits = [-Pl@np.ones((1,T)) <= np.diag(b)@M.T@theta, np.diag(b)@M.T@theta <= Pl@np.ones((1,T))]\n",
    "generator_limits = [np.diag(pg_min.T[0])@u + r <= p, p <= np.diag(pg_max.T[0])@u - r]\n",
    "ramp_limits_startup = [p[:,i] - p[:,i-1] <= np.diag(rhr.T[0])@u[:,i-1] + np.diag(rsu.T[0])@v[:,i] for i in range(1,T)]\n",
    "ramp_limits_shutdown = [p[:,i-1] - p[:,i] <= np.diag(rhr.T[0])@u[:,i] + np.diag(rsd.T[0])@w[:,i] for i in range(1,T)]\n",
    "commitment_constraints = [v[:,i] - w[:,i] == u[:,i] - u[:,i-1] for i in range(1,T)]\n",
    "\n",
    "min_up_time_constraints = []\n",
    "for idx, utime in enumerate(Ti_on):\n",
    "    for t in range(utime[0]-1,T):\n",
    "        min_up_time_constraints += [cp.sum(v[idx,t-utime[0]+1:t+1]) <= u[idx,t]]\n",
    "\n",
    "min_down_time_constraints = []\n",
    "for idx, dtime in enumerate(Ti_off):\n",
    "    for t in range(dtime[0]-1,T):\n",
    "        min_down_time_constraints += [cp.sum(w[idx,t-dtime[0]+1:t+1]) <= 1-u[idx,t]]\n",
    "\n",
    "reserve_constraints = []#[cp.sum(r[:,t]) >= 0.07*cp.sum(d1[:,t]) for t in range(T)]\n",
    "reserve_constraints += [cp.sum(r[:,t]) >= p[idx,t] + r[idx,t] for t in range(T) for idx,_ in enumerate(pg_max)]\n",
    "reserve_constraints += [r <= np.diag(pg_max.T[0])@u, r >= 0]\n",
    "for t in range(1, T):\n",
    "    reserve_constraints += [v[:,t]-w[:,t] == u[:,t] - u[:,t-1]]\n",
    "\n",
    "# constraints = power_flow_constraints + flow_limits + generator_limits + commitment_constraints + min_up_time_constraints + min_down_time_constraints + reserve_constraints + ramp_limits_startup + ramp_limits_shutdown\n",
    "constraints = power_flow_constraints + flow_limits + generator_limits + commitment_constraints + reserve_constraints + ramp_limits_startup + ramp_limits_shutdown + min_up_time_constraints + min_down_time_constraints\n",
    "\n",
    "prob = cp.Problem(obj, constraints)\n",
    "prob.solve(reoptimize=True, verbose=True,MIPgap = 0.01)"
   ]
  },
  {
   "cell_type": "code",
   "execution_count": null,
   "id": "92b05f0a-76d6-49a5-8bb0-6b613a5bbda5",
   "metadata": {},
   "outputs": [],
   "source": []
  }
 ],
 "metadata": {
  "kernelspec": {
   "display_name": "Python 3 (ipykernel)",
   "language": "python",
   "name": "python3"
  },
  "language_info": {
   "codemirror_mode": {
    "name": "ipython",
    "version": 3
   },
   "file_extension": ".py",
   "mimetype": "text/x-python",
   "name": "python",
   "nbconvert_exporter": "python",
   "pygments_lexer": "ipython3",
   "version": "3.10.10"
  }
 },
 "nbformat": 4,
 "nbformat_minor": 5
}
