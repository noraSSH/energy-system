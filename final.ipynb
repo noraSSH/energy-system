{
 "cells": [
  {
   "cell_type": "code",
   "execution_count": 65,
   "id": "dd2218b4-20ac-4e0c-bee5-ae7b311da16e",
   "metadata": {},
   "outputs": [
    {
     "name": "stdout",
     "output_type": "stream",
     "text": [
      "===============================================================================\n",
      "                                     CVXPY                                     \n",
      "                                     v1.3.0                                    \n",
      "===============================================================================\n",
      "(CVXPY) May 09 03:37:57 PM: Your problem has 25 variables, 0 constraints, and 0 parameters.\n",
      "(CVXPY) May 09 03:37:57 PM: It is compliant with the following grammars: DCP, DQCP\n",
      "(CVXPY) May 09 03:37:57 PM: (If you need to solve this problem multiple times, but with different data, consider using parameters.)\n",
      "(CVXPY) May 09 03:37:57 PM: CVXPY will first compile your problem; then, it will invoke a numerical solver to obtain a solution.\n",
      "-------------------------------------------------------------------------------\n",
      "                                  Compilation                                  \n",
      "-------------------------------------------------------------------------------\n",
      "(CVXPY) May 09 03:37:57 PM: Compiling problem (target solver=GUROBI).\n",
      "(CVXPY) May 09 03:37:57 PM: Reduction chain: CvxAttr2Constr -> Qp2SymbolicQp -> QpMatrixStuffing -> GUROBI\n",
      "(CVXPY) May 09 03:37:57 PM: Applying reduction CvxAttr2Constr\n",
      "(CVXPY) May 09 03:37:57 PM: Applying reduction Qp2SymbolicQp\n",
      "(CVXPY) May 09 03:37:57 PM: Applying reduction QpMatrixStuffing\n",
      "(CVXPY) May 09 03:37:57 PM: Applying reduction GUROBI\n",
      "(CVXPY) May 09 03:37:57 PM: Finished problem compilation (took 2.399e-02 seconds).\n",
      "-------------------------------------------------------------------------------\n",
      "                                Numerical solver                               \n",
      "-------------------------------------------------------------------------------\n",
      "(CVXPY) May 09 03:37:57 PM: Invoking solver GUROBI  to obtain a solution.\n",
      "Set parameter QCPDual to value 1\n",
      "Gurobi Optimizer version 10.0.1 build v10.0.1rc0 (win64)\n",
      "\n",
      "CPU model: AMD Ryzen 7 5800H with Radeon Graphics, instruction set [SSE2|AVX|AVX2]\n",
      "Thread count: 8 physical cores, 16 logical processors, using up to 16 threads\n",
      "\n",
      "Optimize a model with 40 rows, 65 columns and 1040 nonzeros\n",
      "Model fingerprint: 0xfbea5728\n",
      "Model has 40 quadratic objective terms\n",
      "Variable types: 40 continuous, 25 integer (0 binary)\n",
      "Coefficient statistics:\n",
      "  Matrix range     [3e-04, 1e+00]\n",
      "  Objective range  [0e+00, 0e+00]\n",
      "  QObjective range [2e+00, 2e+00]\n",
      "  Bounds range     [0e+00, 0e+00]\n",
      "  RHS range        [2e-02, 2e+00]\n",
      "\n",
      "No start values specified in MIP start\n",
      "\n",
      "Found heuristic solution: objective 39.2617877\n",
      "Presolve time: 0.00s\n",
      "Presolved: 40 rows, 65 columns, 1040 nonzeros\n",
      "Presolved model has 40 quadratic objective terms\n",
      "Variable types: 40 continuous, 25 integer (0 binary)\n",
      "\n",
      "Root relaxation: objective 1.656492e+01, 66 iterations, 0.00 seconds (0.00 work units)\n",
      "\n",
      "    Nodes    |    Current Node    |     Objective Bounds      |     Work\n",
      " Expl Unexpl |  Obj  Depth IntInf | Incumbent    BestBd   Gap | It/Node Time\n",
      "\n",
      "     0     0   16.56492    0   25   39.26179   16.56492  57.8%     -    0s\n",
      "H    0     0                      29.5208408   16.56492  43.9%     -    0s\n",
      "H    0     0                      27.4483038   16.56492  39.7%     -    0s\n",
      "     0     0   17.60882    0   25   27.44830   17.60882  35.8%     -    0s\n",
      "H    0     0                      23.4313662   17.60882  24.8%     -    0s\n",
      "     0     2   17.60882    0   25   23.43137   17.60882  24.8%     -    0s\n",
      "H   11    16                      22.6142730   17.93597  20.7%   1.8    0s\n",
      "H  123   129                      22.4953733   18.08083  19.6%   2.1    0s\n",
      "*  291   212              33      21.3399837   18.84264  11.7%   2.4    0s\n",
      "H 1207   311                      20.9943209   20.03479  4.57%   2.2    0s\n",
      "\n",
      "Explored 1843 nodes (3889 simplex iterations) in 0.29 seconds (0.09 work units)\n",
      "Thread count was 16 (of 16 available processors)\n",
      "\n",
      "Solution count 8: 20.9943 21.34 22.4954 ... 39.2618\n",
      "\n",
      "Optimal solution found (tolerance 1.00e-04)\n",
      "Best objective 2.099432088815e+01, best bound 2.099432088815e+01, gap 0.0000%\n",
      "-------------------------------------------------------------------------------\n",
      "                                    Summary                                    \n",
      "-------------------------------------------------------------------------------\n",
      "(CVXPY) May 09 03:37:58 PM: Problem status: optimal\n",
      "(CVXPY) May 09 03:37:58 PM: Optimal value: 2.099e+01\n",
      "(CVXPY) May 09 03:37:58 PM: Compilation took 2.399e-02 seconds\n",
      "(CVXPY) May 09 03:37:58 PM: Solver (including time spent in interface) took 3.170e-01 seconds\n"
     ]
    },
    {
     "data": {
      "text/plain": [
       "20.994320888151584"
      ]
     },
     "execution_count": 65,
     "metadata": {},
     "output_type": "execute_result"
    }
   ],
   "source": [
    "import cvxpy as cp\n",
    "import numpy as np\n",
    "import matplotlib.pyplot as plt\n",
    "# Generate a random problem np.random.seed(0)\n",
    "m, n= 40, 25\n",
    "A = np.random.rand(m, n)\n",
    "b = np.random.randn(m)\n",
    "# Construct a CVXPY problem\n",
    "x = cp.Variable(n, integer=True)\n",
    "objective = cp.Minimize(cp.sum_squares(A @ x - b)) \n",
    "prob = cp.Problem(objective)\n",
    "prob.solve(solver = cp.GUROBI ,verbose = True)"
   ]
  },
  {
   "cell_type": "code",
   "execution_count": 14,
   "id": "4be9a328-6fcd-47da-94ea-6ed5a09203a5",
   "metadata": {},
   "outputs": [],
   "source": [
    "import pandas as pd\n",
    "import networkx as nx"
   ]
  },
  {
   "cell_type": "code",
   "execution_count": 23,
   "id": "f6ed5daf",
   "metadata": {},
   "outputs": [
    {
     "name": "stdout",
     "output_type": "stream",
     "text": [
      "186\n"
     ]
    }
   ],
   "source": [
    "bus_data = pd.read_csv('Bus.csv').dropna()\n",
    "branch_data = pd.read_csv('Branch.csv').dropna()\n",
    "load_data = pd.read_csv('Load.csv').dropna()\n",
    "generation_data = pd.read_csv('Generation.csv').dropna()\n",
    "print(len(branch_data))"
   ]
  },
  {
   "cell_type": "code",
   "execution_count": 42,
   "id": "375ffe48",
   "metadata": {},
   "outputs": [],
   "source": [
    "# question 1.d\n",
    "# build the vectors of constants\n",
    "# all the costs\n",
    "c_l = generation_data['LinearCost'].to_numpy()\n",
    "c_nl = generation_data['NoLoadCost'].to_numpy()\n",
    "c_su = generation_data['StartupCost'].to_numpy()\n",
    "c_sd = generation_data['ShutdownCost'].to_numpy()\n",
    "c_r = generation_data['ReserveCost'].to_numpy()"
   ]
  },
  {
   "cell_type": "code",
   "execution_count": 86,
   "id": "a927a063",
   "metadata": {},
   "outputs": [],
   "source": [
    "# Pl\n",
    "Pl = np.expand_dims(branch_data['rateA'].to_numpy() / 100, axis=1)"
   ]
  },
  {
   "cell_type": "code",
   "execution_count": 92,
   "id": "6ae87ea1",
   "metadata": {},
   "outputs": [
    {
     "name": "stdout",
     "output_type": "stream",
     "text": [
      "(186,)\n"
     ]
    }
   ],
   "source": [
    "# b: shall we divide it by 100?\n",
    "b = branch_data['B(susceptance)'].to_numpy() / 100\n",
    "print(b.shape)"
   ]
  },
  {
   "cell_type": "code",
   "execution_count": 45,
   "id": "1abb5b99",
   "metadata": {},
   "outputs": [
    {
     "name": "stdout",
     "output_type": "stream",
     "text": [
      "(118, 186)\n"
     ]
    }
   ],
   "source": [
    "# M\n",
    "N = bus_data.shape[0]\n",
    "E = branch_data.shape[0]\n",
    "bus_mappings = {bus:bus-1 for bus in bus_data['BusNumber']}\n",
    "M = np.zeros((N, E))\n",
    "for idx, (fbus, tbus) in enumerate(zip(branch_data['from_bus'], branch_data['to_bus'])):\n",
    "    M[bus_mappings[fbus], idx] = 1\n",
    "    M[bus_mappings[tbus], idx] = -1\n",
    "print(M.shape)\n"
   ]
  },
  {
   "cell_type": "code",
   "execution_count": 46,
   "id": "c5ce1bc2",
   "metadata": {},
   "outputs": [
    {
     "name": "stdout",
     "output_type": "stream",
     "text": [
      "(118, 118)\n"
     ]
    }
   ],
   "source": [
    "# B\n",
    "B = np.dot(np.dot(M, np.diag(b)), M.T)\n",
    "print(B.shape)"
   ]
  },
  {
   "cell_type": "code",
   "execution_count": 47,
   "id": "13bc253f",
   "metadata": {},
   "outputs": [],
   "source": [
    "# p\n",
    "p_max = generation_data['Pmax'] / 100\n",
    "p_min = generation_data['Pmin'] / 100"
   ]
  },
  {
   "cell_type": "code",
   "execution_count": 48,
   "id": "604df7dc",
   "metadata": {},
   "outputs": [
    {
     "name": "stdout",
     "output_type": "stream",
     "text": [
      "[1. 1. 0. 0. 0. 0. 0. 0. 0. 0. 0. 0. 0. 0. 0. 0. 0. 0. 0. 0. 0. 0. 0. 0.\n",
      " 0. 0. 0. 0. 0. 0. 0. 0. 0. 0. 0. 0. 0. 0. 0. 0. 0. 0. 0. 0. 0. 0. 0. 0.\n",
      " 0. 0. 0. 0. 0. 0.]\n"
     ]
    }
   ],
   "source": [
    "# selection matrix Eg\n",
    "Ng = generation_data.shape[0]\n",
    "Eg = np.zeros((N, Ng))\n",
    "for i in range(Ng):\n",
    "    Eg[generation_data['Bus'][i] - 1, i] = 1\n",
    "print(Eg[9])"
   ]
  },
  {
   "cell_type": "code",
   "execution_count": 49,
   "id": "1593ade6",
   "metadata": {},
   "outputs": [],
   "source": [
    "# ramps\n",
    "r_hr = generation_data['HourlyRamp']\n",
    "r_su = generation_data['Startup/ShutdownRamp']\n",
    "r_sd = generation_data['Startup/ShutdownRamp']"
   ]
  },
  {
   "cell_type": "code",
   "execution_count": 77,
   "id": "2100d240",
   "metadata": {},
   "outputs": [],
   "source": [
    "# question 1.e\n",
    "T = 24\n",
    "Pload = np.expand_dims(bus_data['Pload'], axis=1)\n",
    "day1 = np.expand_dims(load_data['Day1'], axis=1).T\n",
    "day2 = np.expand_dims(load_data['Day2'], axis=1).T\n",
    "day3 = np.expand_dims(load_data['Day3'], axis=1).T\n",
    "day4 = np.expand_dims(load_data['Day4'], axis=1).T\n",
    "day5 = np.expand_dims(load_data['Day5'], axis=1).T\n",
    "\n",
    "P1 = (Pload @ day1) / 100\n",
    "P2 = (Pload @ day2) / 100\n",
    "P3 = (Pload @ day3) / 100\n",
    "P4 = (Pload @ day4) / 100\n",
    "P5 = (Pload @ day5) / 100"
   ]
  },
  {
   "cell_type": "code",
   "execution_count": 78,
   "id": "4f92549f",
   "metadata": {},
   "outputs": [
    {
     "name": "stdout",
     "output_type": "stream",
     "text": [
      "[2801.78 2666.21 2530.64 2485.45 2485.45 2530.64 3118.11 3615.2  4021.91\n",
      " 4067.1  4067.1  4021.91 4021.91 4021.91 3931.53 3976.72 4157.48 4202.67\n",
      " 4202.67 4067.1  3841.15 3479.63 3072.92 2666.21]\n"
     ]
    }
   ],
   "source": [
    "total_load = np.zeros((5, 24))\n",
    "for i in range(24):\n",
    "    total_load[0, i] = np.sum(P1[:, i])\n",
    "    total_load[1, i] = np.sum(P2[:, i])\n",
    "    total_load[2, i] = np.sum(P3[:, i])\n",
    "    total_load[3, i] = np.sum(P4[:, i])\n",
    "    total_load[4, i] = np.sum(P5[:, i])\n",
    "print(total_load[0])"
   ]
  },
  {
   "cell_type": "code",
   "execution_count": 79,
   "id": "0ea4177c",
   "metadata": {},
   "outputs": [
    {
     "data": {
      "image/png": "[encoded data removed]",
      "text/plain": [
       "<Figure size 640x480 with 1 Axes>"
      ]
     },
     "metadata": {},
     "output_type": "display_data"
    }
   ],
   "source": [
    "hours = np.arange(1, 25)\n",
    "plt.plot(hours, total_load[0], label=\"Day1\")\n",
    "plt.plot(hours, total_load[1], label=\"Day2\")\n",
    "plt.plot(hours, total_load[2], label=\"Day3\")\n",
    "plt.plot(hours, total_load[3], label=\"Day4\")\n",
    "plt.plot(hours, total_load[4], label=\"Day5\")\n",
    "plt.xlabel(\"hours\")\n",
    "plt.ylabel(\"total load\")\n",
    "plt.legend()\n",
    "plt.show()"
   ]
  },
  {
   "cell_type": "code",
   "execution_count": 74,
   "id": "276fd666",
   "metadata": {},
   "outputs": [],
   "source": [
    "# question 1.f\n",
    "# uc.py\n",
    "# the first day\n",
    "\n",
    "p = cp.Variable((generation_data.shape[0],T))\n",
    "r = cp.Variable((generation_data.shape[0],T))\n",
    "theta = cp.Variable((N,T))\n",
    "u = cp.Variable((generation_data.shape[0],T),boolean = True) # Commitment variable\n",
    "v = cp.Variable((generation_data.shape[0],T),boolean = True) # Startup variable\n",
    "w = cp.Variable((generation_data.shape[0],T),boolean = True) # Shutdown variable"
   ]
  },
  {
   "cell_type": "code",
   "execution_count": 75,
   "id": "84915bcc",
   "metadata": {},
   "outputs": [],
   "source": [
    "# is the given formula incorrect?\n",
    "obj = cp.Minimize(cp.sum(c_l.T@p + c_su.T@v + c_sd.T@w + c_nl.T@u + c_r.T@r))"
   ]
  },
  {
   "cell_type": "code",
   "execution_count": 107,
   "id": "6eaf7460",
   "metadata": {},
   "outputs": [],
   "source": [
    "power_flow_constraints = [Eg@p - P1 == B@theta]\n",
    "flow_limits = [(-Pl)@np.ones((1,T)) <= np.diag(b)@M.T@theta, np.diag(b)@M.T@theta <= Pl@np.ones((1,T))]\n",
    "\n",
    "# ??? why transpose for these diags for these limits\n",
    "# generator_limits = [np.diag(p_min.T[0])@u + r <= p, p <= np.diag(p_max.T[0])@u - r]\n",
    "generator_limits = [np.diag(p_min)@u + r <= p, p <= np.diag(p_max)@u - r]\n",
    "ramp_limits_startup = [p[:,i] - p[:,i-1] <= np.diag(r_hr)@u[:,i-1] + np.diag(r_su)@v[:,i] for i in range(1,T)]\n",
    "ramp_limits_shutdown = [p[:,i-1] - p[:,i] <= np.diag(r_hr)@u[:,i] + np.diag(r_su)@w[:,i] for i in range(1,T)]\n",
    "\n",
    "commitment_constraints = [v[:,i] - w[:,i] == u[:,i] - u[:,i-1] for i in range(1,T)]"
   ]
  },
  {
   "cell_type": "code",
   "execution_count": 108,
   "id": "648197d1",
   "metadata": {},
   "outputs": [],
   "source": [
    "min_up_time = generation_data['minUP']\n",
    "min_down_time = generation_data['minDOWN']\n",
    "min_up_time_constraints = []\n",
    "for idx, utime in enumerate(min_up_time):\n",
    "    for t in range(utime-1,T):\n",
    "        min_up_time_constraints += [cp.sum(v[idx,t-utime+1:t+1]) <= u[idx,t]]\n",
    "\n",
    "min_down_time_constraints = []\n",
    "for idx, dtime in enumerate(min_down_time):\n",
    "    for t in range(dtime-1,T):\n",
    "        min_down_time_constraints += [cp.sum(w[idx,t-dtime+1:t+1]) <= 1-u[idx,t]]"
   ]
  },
  {
   "cell_type": "code",
   "execution_count": 109,
   "id": "e46a0fe3",
   "metadata": {},
   "outputs": [],
   "source": [
    "reserve_constraints = [cp.sum(r[:,t]) >= 0.07*cp.sum(P1[:,t]) for t in range(T)]\n",
    "reserve_constraints += [cp.sum(r[:,t]) >= p[idx,t] + r[idx,t] for t in range(T) for idx,_ in enumerate(p_max)]\n",
    "reserve_constraints += [r <= np.diag(p_max)@u, r >= 0]"
   ]
  },
  {
   "cell_type": "code",
   "execution_count": 110,
   "id": "a68403f5",
   "metadata": {},
   "outputs": [
    {
     "name": "stdout",
     "output_type": "stream",
     "text": [
      "===============================================================================\n",
      "                                     CVXPY                                     \n",
      "                                     v1.3.0                                    \n",
      "===============================================================================\n",
      "(CVXPY) May 09 05:34:22 PM: Your problem has 9312 variables, 3465 constraints, and 0 parameters.\n",
      "(CVXPY) May 09 05:34:22 PM: It is compliant with the following grammars: DCP, DQCP\n",
      "(CVXPY) May 09 05:34:22 PM: (If you need to solve this problem multiple times, but with different data, consider using parameters.)\n",
      "(CVXPY) May 09 05:34:22 PM: CVXPY will first compile your problem; then, it will invoke a numerical solver to obtain a solution.\n",
      "-------------------------------------------------------------------------------\n",
      "                                  Compilation                                  \n",
      "-------------------------------------------------------------------------------\n",
      "(CVXPY) May 09 05:34:22 PM: Compiling problem (target solver=GUROBI).\n",
      "(CVXPY) May 09 05:34:22 PM: Reduction chain: CvxAttr2Constr -> Qp2SymbolicQp -> QpMatrixStuffing -> GUROBI\n",
      "(CVXPY) May 09 05:34:22 PM: Applying reduction CvxAttr2Constr\n",
      "(CVXPY) May 09 05:34:22 PM: Applying reduction Qp2SymbolicQp\n",
      "(CVXPY) May 09 05:34:22 PM: Applying reduction QpMatrixStuffing\n",
      "(CVXPY) May 09 05:34:25 PM: Applying reduction GUROBI\n",
      "(CVXPY) May 09 05:34:25 PM: Finished problem compilation (took 3.252e+00 seconds).\n",
      "-------------------------------------------------------------------------------\n",
      "                                Numerical solver                               \n",
      "-------------------------------------------------------------------------------\n",
      "(CVXPY) May 09 05:34:25 PM: Invoking solver GUROBI  to obtain a solution.\n",
      "Set parameter QCPDual to value 1\n",
      "Set parameter MIPGap to value 0.01\n",
      "Gurobi Optimizer version 10.0.1 build v10.0.1rc0 (win64)\n",
      "\n",
      "CPU model: AMD Ryzen 7 5800H with Radeon Graphics, instruction set [SSE2|AVX|AVX2]\n",
      "Thread count: 8 physical cores, 16 logical processors, using up to 16 threads\n",
      "\n",
      "Optimize a model with 24059 rows, 9312 columns and 138103 nonzeros\n",
      "Model fingerprint: 0xc71df6f0\n",
      "Variable types: 5424 continuous, 3888 integer (3888 binary)\n",
      "Coefficient statistics:\n",
      "  Matrix range     [2e-02, 3e+03]\n",
      "  Objective range  [6e+00, 6e+03]\n",
      "  Bounds range     [1e+00, 1e+00]\n",
      "  RHS range        [1e+00, 4e+02]\n",
      "\n",
      "No start values specified in MIP start\n",
      "\n",
      "Presolve removed 1909 rows and 204 columns\n",
      "Presolve time: 0.01s\n",
      "\n",
      "Explored 0 nodes (0 simplex iterations) in 0.04 seconds (0.03 work units)\n",
      "Thread count was 1 (of 16 available processors)\n",
      "\n",
      "Solution count 0\n",
      "\n",
      "Model is infeasible or unbounded\n",
      "Best objective -, best bound -, gap -\n",
      "-------------------------------------------------------------------------------\n",
      "                                    Summary                                    \n",
      "-------------------------------------------------------------------------------\n",
      "(CVXPY) May 09 05:34:26 PM: Problem status: infeasible_or_unbounded\n",
      "(CVXPY) May 09 05:34:26 PM: Optimal value: nan\n",
      "(CVXPY) May 09 05:34:26 PM: Compilation took 3.252e+00 seconds\n",
      "(CVXPY) May 09 05:34:26 PM: Solver (including time spent in interface) took 7.016e-01 seconds\n"
     ]
    },
    {
     "name": "stderr",
     "output_type": "stream",
     "text": [
      "C:\\Users\\sunsh\\miniconda3\\lib\\site-packages\\cvxpy\\problems\\problem.py:1391: UserWarning: \n",
      "    The problem is either infeasible or unbounded, but the solver\n",
      "    cannot tell which. Disable any solver-specific presolve methods\n",
      "    and re-solve to determine the precise problem status.\n",
      "\n",
      "    For GUROBI and CPLEX you can automatically perform this re-solve\n",
      "    with the keyword argument prob.solve(reoptimize=True, ...).\n",
      "    \n",
      "  warnings.warn(INF_OR_UNB_MESSAGE)\n"
     ]
    }
   ],
   "source": [
    "constraints = power_flow_constraints + flow_limits + generator_limits + commitment_constraints + reserve_constraints + ramp_limits_startup + ramp_limits_shutdown + min_up_time_constraints + min_down_time_constraints\n",
    "\n",
    "prob = cp.Problem(obj, constraints)\n",
    "res = prob.solve(solver = cp.GUROBI,verbose=True,MIPgap = 0.01)"
   ]
  },
  {
   "cell_type": "code",
   "execution_count": null,
   "id": "fbe50f98",
   "metadata": {},
   "outputs": [],
   "source": []
  }
 ],
 "metadata": {
  "kernelspec": {
   "display_name": "Python 3 (ipykernel)",
   "language": "python",
   "name": "python3"
  },
  "language_info": {
   "codemirror_mode": {
    "name": "ipython",
    "version": 3
   },
   "file_extension": ".py",
   "mimetype": "text/x-python",
   "name": "python",
   "nbconvert_exporter": "python",
   "pygments_lexer": "ipython3",
   "version": "3.9.1"
  }
 },
 "nbformat": 4,
 "nbformat_minor": 5
}
