{
 "cells": [
  {
   "cell_type": "code",
   "execution_count": 2,
   "id": "dd2218b4-20ac-4e0c-bee5-ae7b311da16e",
   "metadata": {},
   "outputs": [
    {
     "name": "stdout",
     "output_type": "stream",
     "text": [
      "===============================================================================\n",
      "                                     CVXPY                                     \n",
      "                                     v1.2.2                                    \n",
      "===============================================================================\n",
      "(CVXPY) May 08 01:45:54 PM: Your problem has 25 variables, 0 constraints, and 0 parameters.\n",
      "(CVXPY) May 08 01:45:54 PM: It is compliant with the following grammars: DCP, DQCP\n",
      "(CVXPY) May 08 01:45:54 PM: (If you need to solve this problem multiple times, but with different data, consider using parameters.)\n",
      "(CVXPY) May 08 01:45:54 PM: CVXPY will first compile your problem; then, it will invoke a numerical solver to obtain a solution.\n",
      "-------------------------------------------------------------------------------\n",
      "                                  Compilation                                  \n",
      "-------------------------------------------------------------------------------\n",
      "(CVXPY) May 08 01:45:54 PM: Compiling problem (target solver=GUROBI).\n",
      "(CVXPY) May 08 01:45:54 PM: Reduction chain: CvxAttr2Constr -> Qp2SymbolicQp -> QpMatrixStuffing -> GUROBI\n",
      "(CVXPY) May 08 01:45:54 PM: Applying reduction CvxAttr2Constr\n",
      "(CVXPY) May 08 01:45:54 PM: Applying reduction Qp2SymbolicQp\n",
      "(CVXPY) May 08 01:45:54 PM: Applying reduction QpMatrixStuffing\n",
      "(CVXPY) May 08 01:45:54 PM: Applying reduction GUROBI\n",
      "(CVXPY) May 08 01:45:54 PM: Finished problem compilation (took 1.182e-02 seconds).\n",
      "-------------------------------------------------------------------------------\n",
      "                                Numerical solver                               \n",
      "-------------------------------------------------------------------------------\n",
      "(CVXPY) May 08 01:45:54 PM: Invoking solver GUROBI  to obtain a solution.\n",
      "Set parameter Username\n",
      "Academic license - for non-commercial use only - expires 2024-04-23\n",
      "Set parameter QCPDual to value 1\n",
      "Gurobi Optimizer version 10.0.1 build v10.0.1rc0 (mac64[arm])\n",
      "\n",
      "CPU model: Apple M1 Pro\n",
      "Thread count: 10 physical cores, 10 logical processors, using up to 10 threads\n",
      "\n",
      "Optimize a model with 40 rows, 65 columns and 1040 nonzeros\n",
      "Model fingerprint: 0x6d9fa721\n",
      "Model has 40 quadratic objective terms\n",
      "Variable types: 40 continuous, 25 integer (0 binary)\n",
      "Coefficient statistics:\n",
      "  Matrix range     [2e-03, 1e+00]\n",
      "  Objective range  [0e+00, 0e+00]\n",
      "  QObjective range [2e+00, 2e+00]\n",
      "  Bounds range     [0e+00, 0e+00]\n",
      "  RHS range        [3e-03, 2e+00]\n",
      "Found heuristic solution: objective 33.1040635\n",
      "Presolve time: 0.00s\n",
      "Presolved: 40 rows, 65 columns, 1040 nonzeros\n",
      "Presolved model has 40 quadratic objective terms\n",
      "Variable types: 40 continuous, 25 integer (0 binary)\n",
      "\n",
      "Root relaxation: objective 1.320175e+01, 66 iterations, 0.00 seconds (0.00 work units)\n",
      "\n",
      "    Nodes    |    Current Node    |     Objective Bounds      |     Work\n",
      " Expl Unexpl |  Obj  Depth IntInf | Incumbent    BestBd   Gap | It/Node Time\n",
      "\n",
      "     0     0   13.20175    0   25   33.10406   13.20175  60.1%     -    0s\n",
      "H    0     0                      20.3504358   13.20175  35.1%     -    0s\n",
      "     0     0   14.16596    0   25   20.35044   14.16596  30.4%     -    0s\n",
      "H    0     0                      19.9592059   14.16596  29.0%     -    0s\n",
      "H    0     0                      18.4070452   14.16596  23.0%     -    0s\n",
      "     0     2   14.16596    0   25   18.40705   14.16596  23.0%     -    0s\n",
      "H   79    90                      17.9749770   14.65063  18.5%   2.1    0s\n",
      "H  565   214                      17.8615347   15.71061  12.0%   2.2    0s\n",
      "\n",
      "Explored 1753 nodes (4018 simplex iterations) in 0.19 seconds (0.09 work units)\n",
      "Thread count was 10 (of 10 available processors)\n",
      "\n",
      "Solution count 6: 17.8615 17.975 18.407 ... 33.1041\n",
      "\n",
      "Optimal solution found (tolerance 1.00e-04)\n",
      "Best objective 1.786153471470e+01, best bound 1.786153471470e+01, gap 0.0000%\n",
      "-------------------------------------------------------------------------------\n",
      "                                    Summary                                    \n",
      "-------------------------------------------------------------------------------\n",
      "(CVXPY) May 08 01:45:55 PM: Problem status: optimal\n",
      "(CVXPY) May 08 01:45:55 PM: Optimal value: 1.786e+01\n",
      "(CVXPY) May 08 01:45:55 PM: Compilation took 1.182e-02 seconds\n",
      "(CVXPY) May 08 01:45:55 PM: Solver (including time spent in interface) took 2.527e-01 seconds\n"
     ]
    },
    {
     "data": {
      "text/plain": [
       "17.86153471469785"
      ]
     },
     "execution_count": 2,
     "metadata": {},
     "output_type": "execute_result"
    }
   ],
   "source": [
    "import cvxpy as cp\n",
    "import numpy as np\n",
    "# Generate a random problem np.random.seed(0)\n",
    "m, n= 40, 25\n",
    "A = np.random.rand(m, n)\n",
    "b = np.random.randn(m)\n",
    "# Construct a CVXPY problem\n",
    "x = cp.Variable(n, integer=True)\n",
    "objective = cp.Minimize(cp.sum_squares(A @ x - b)) \n",
    "prob = cp.Problem(objective)\n",
    "prob.solve(solver = cp.GUROBI ,verbose = True)"
   ]
  },
  {
   "cell_type": "code",
   "execution_count": null,
   "id": "4be9a328-6fcd-47da-94ea-6ed5a09203a5",
   "metadata": {},
   "outputs": [],
   "source": []
  }
 ],
 "metadata": {
  "kernelspec": {
   "display_name": "Python 3 (ipykernel)",
   "language": "python",
   "name": "python3"
  },
  "language_info": {
   "codemirror_mode": {
    "name": "ipython",
    "version": 3
   },
   "file_extension": ".py",
   "mimetype": "text/x-python",
   "name": "python",
   "nbconvert_exporter": "python",
   "pygments_lexer": "ipython3",
   "version": "3.10.10"
  }
 },
 "nbformat": 4,
 "nbformat_minor": 5
}
