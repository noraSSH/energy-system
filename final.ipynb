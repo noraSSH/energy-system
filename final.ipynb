{
 "cells": [
  {
   "cell_type": "code",
   "execution_count": 1,
   "id": "dd2218b4-20ac-4e0c-bee5-ae7b311da16e",
   "metadata": {},
   "outputs": [
    {
     "name": "stdout",
     "output_type": "stream",
     "text": [
      "===============================================================================\n",
      "                                     CVXPY                                     \n",
      "                                     v1.3.0                                    \n",
      "===============================================================================\n",
      "(CVXPY) May 09 02:10:29 PM: Your problem has 25 variables, 0 constraints, and 0 parameters.\n",
      "(CVXPY) May 09 02:10:29 PM: It is compliant with the following grammars: DCP, DQCP\n",
      "(CVXPY) May 09 02:10:29 PM: (If you need to solve this problem multiple times, but with different data, consider using parameters.)\n",
      "(CVXPY) May 09 02:10:29 PM: CVXPY will first compile your problem; then, it will invoke a numerical solver to obtain a solution.\n",
      "-------------------------------------------------------------------------------\n",
      "                                  Compilation                                  \n",
      "-------------------------------------------------------------------------------\n",
      "(CVXPY) May 09 02:10:29 PM: Compiling problem (target solver=GUROBI).\n",
      "(CVXPY) May 09 02:10:29 PM: Reduction chain: CvxAttr2Constr -> Qp2SymbolicQp -> QpMatrixStuffing -> GUROBI\n",
      "(CVXPY) May 09 02:10:29 PM: Applying reduction CvxAttr2Constr\n",
      "(CVXPY) May 09 02:10:29 PM: Applying reduction Qp2SymbolicQp\n",
      "(CVXPY) May 09 02:10:29 PM: Applying reduction QpMatrixStuffing\n",
      "(CVXPY) May 09 02:10:29 PM: Applying reduction GUROBI\n",
      "(CVXPY) May 09 02:10:29 PM: Finished problem compilation (took 3.600e-02 seconds).\n",
      "-------------------------------------------------------------------------------\n",
      "                                Numerical solver                               \n",
      "-------------------------------------------------------------------------------\n",
      "(CVXPY) May 09 02:10:29 PM: Invoking solver GUROBI  to obtain a solution.\n",
      "Set parameter Username\n",
      "Academic license - for non-commercial use only - expires 2024-04-23\n",
      "Set parameter QCPDual to value 1\n",
      "Gurobi Optimizer version 10.0.1 build v10.0.1rc0 (win64)\n",
      "\n",
      "CPU model: AMD Ryzen 7 5800H with Radeon Graphics, instruction set [SSE2|AVX|AVX2]\n",
      "Thread count: 8 physical cores, 16 logical processors, using up to 16 threads\n",
      "\n",
      "Optimize a model with 40 rows, 65 columns and 1040 nonzeros\n",
      "Model fingerprint: 0x76371cf6\n",
      "Model has 40 quadratic objective terms\n",
      "Variable types: 40 continuous, 25 integer (0 binary)\n",
      "Coefficient statistics:\n",
      "  Matrix range     [5e-04, 1e+00]\n",
      "  Objective range  [0e+00, 0e+00]\n",
      "  QObjective range [2e+00, 2e+00]\n",
      "  Bounds range     [0e+00, 0e+00]\n",
      "  RHS range        [8e-02, 2e+00]\n",
      "\n",
      "No start values specified in MIP start\n",
      "\n",
      "Found heuristic solution: objective 38.9414551\n",
      "Presolve time: 0.02s\n",
      "Presolved: 40 rows, 65 columns, 1040 nonzeros\n",
      "Presolved model has 40 quadratic objective terms\n",
      "Variable types: 40 continuous, 25 integer (0 binary)\n",
      "\n",
      "Root relaxation: objective 9.113763e+00, 66 iterations, 0.01 seconds (0.00 work units)\n",
      "\n",
      "    Nodes    |    Current Node    |     Objective Bounds      |     Work\n",
      " Expl Unexpl |  Obj  Depth IntInf | Incumbent    BestBd   Gap | It/Node Time\n",
      "\n",
      "     0     0    9.11376    0   25   38.94146    9.11376  76.6%     -    0s\n",
      "H    0     0                      15.2579133    9.11376  40.3%     -    0s\n",
      "H    0     0                      14.7540592    9.11376  38.2%     -    0s\n",
      "     0     0   10.15643    0   25   14.75406   10.15643  31.2%     -    0s\n",
      "H    0     0                      14.0132559   10.15643  27.5%     -    0s\n",
      "     0     2   10.15643    0   25   14.01326   10.15643  27.5%     -    0s\n",
      "H  123   106                      13.7466179   10.58377  23.0%   2.1    0s\n",
      "\n",
      "Explored 2225 nodes (5070 simplex iterations) in 0.35 seconds (0.11 work units)\n",
      "Thread count was 16 (of 16 available processors)\n",
      "\n",
      "Solution count 5: 13.7466 14.0133 14.7541 ... 38.9415\n",
      "\n",
      "Optimal solution found (tolerance 1.00e-04)\n",
      "Best objective 1.374661791352e+01, best bound 1.374661791352e+01, gap 0.0000%\n",
      "-------------------------------------------------------------------------------\n",
      "                                    Summary                                    \n",
      "-------------------------------------------------------------------------------\n",
      "(CVXPY) May 09 02:10:29 PM: Problem status: optimal\n",
      "(CVXPY) May 09 02:10:29 PM: Optimal value: 1.375e+01\n",
      "(CVXPY) May 09 02:10:29 PM: Compilation took 3.600e-02 seconds\n",
      "(CVXPY) May 09 02:10:29 PM: Solver (including time spent in interface) took 4.140e-01 seconds\n"
     ]
    },
    {
     "data": {
      "text/plain": [
       "13.746617913523945"
      ]
     },
     "execution_count": 1,
     "metadata": {},
     "output_type": "execute_result"
    }
   ],
   "source": [
    "import cvxpy as cp\n",
    "import numpy as np\n",
    "# Generate a random problem np.random.seed(0)\n",
    "m, n= 40, 25\n",
    "A = np.random.rand(m, n)\n",
    "b = np.random.randn(m)\n",
    "# Construct a CVXPY problem\n",
    "x = cp.Variable(n, integer=True)\n",
    "objective = cp.Minimize(cp.sum_squares(A @ x - b)) \n",
    "prob = cp.Problem(objective)\n",
    "prob.solve(solver = cp.GUROBI ,verbose = True)"
   ]
  },
  {
   "cell_type": "code",
   "execution_count": null,
   "id": "4be9a328-6fcd-47da-94ea-6ed5a09203a5",
   "metadata": {},
   "outputs": [],
   "source": []
  }
 ],
 "metadata": {
  "kernelspec": {
   "display_name": "Python 3 (ipykernel)",
   "language": "python",
   "name": "python3"
  },
  "language_info": {
   "codemirror_mode": {
    "name": "ipython",
    "version": 3
   },
   "file_extension": ".py",
   "mimetype": "text/x-python",
   "name": "python",
   "nbconvert_exporter": "python",
   "pygments_lexer": "ipython3",
   "version": "3.9.1"
  }
 },
 "nbformat": 4,
 "nbformat_minor": 5
}
